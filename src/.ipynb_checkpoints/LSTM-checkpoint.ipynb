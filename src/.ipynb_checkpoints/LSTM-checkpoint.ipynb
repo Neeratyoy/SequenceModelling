{
 "cells": [
  {
   "cell_type": "code",
   "execution_count": 31,
   "metadata": {
    "colab": {},
    "colab_type": "code",
    "id": "sCld3t9r8VMI"
   },
   "outputs": [],
   "source": [
    "import numpy as np\n",
    "\n",
    "import torch\n",
    "import torch.nn as nn\n",
    "import torch.optim as optim\n",
    "import torch.distributions as tdist"
   ]
  },
  {
   "cell_type": "markdown",
   "metadata": {},
   "source": [
    "## Defining cells"
   ]
  },
  {
   "cell_type": "code",
   "execution_count": 2,
   "metadata": {
    "colab": {},
    "colab_type": "code",
    "id": "_9dEFUgB948F"
   },
   "outputs": [],
   "source": [
    "class RNNCell(nn.Module):\n",
    "    \"\"\"A vanilla RNN cell\n",
    "    \n",
    "    An RNN cell which takes two inputs: x and previous hidden state\n",
    "    and outputs the current hidden state and output.\n",
    "    \n",
    "    The RNN cell can be used as components for the following designs:\n",
    "    * One-to-one: https://stanford.edu/~shervine/images/rnn-one-to-one.png\n",
    "    * One-to-many: https://stanford.edu/~shervine/images/rnn-one-to-many.png\n",
    "    * Many-to-one: https://stanford.edu/~shervine/images/rnn-many-to-one.png\n",
    "    * Many-to-many\n",
    "        * Same: https://stanford.edu/~shervine/images/rnn-many-to-many-same.png\n",
    "        * Different: https://stanford.edu/~shervine/images/rnn-many-to-many-different.png\n",
    "    * Bidirectional RNNs: https://stanford.edu/~shervine/images/bidirectional-rnn.png\n",
    "    * Deep RNNs: https://stanford.edu/~shervine/images/deep-rnn.png\n",
    "    \n",
    "    Parameters\n",
    "    ==========\n",
    "    input_dim: Dimension of input data\n",
    "    output_dim: Dimension of outputs for each input\n",
    "    hidden_dim: Size of hidden state\n",
    "\n",
    "    \"\"\"\n",
    "    def __init__(self, input_dim, output_dim, hidden_dim, xavier_init=False):\n",
    "        super().__init__()\n",
    "        self.weights_hidden = nn.Parameter(torch.randn(hidden_dim, hidden_dim))\n",
    "        self.weights_input = nn.Parameter(torch.randn(input_dim, hidden_dim))\n",
    "        self.weights_output = nn.Parameter(torch.randn(hidden_dim, output_dim))\n",
    "        self.bias_state = nn.Parameter(torch.randn(hidden_dim))\n",
    "        self.bias_output = nn.Parameter(torch.randn(output_dim))\n",
    "        self.g1 = nn.Sigmoid()\n",
    "        self.g2 = nn.Tanh()\n",
    "    \n",
    "    def forward(self, x, hidden):\n",
    "        # Design from: \n",
    "        #    https://stanford.edu/~shervine/images/description-block-rnn.png\n",
    "        #    https://stanford.edu/~shervine/teaching/cs-230/cheatsheet-recurrent-neural-networks\n",
    "        \n",
    "        # W_{ax}x^t\n",
    "        input_actv = torch.matmul(x, self.weights_input)\n",
    "        # W_{aa}a^{t-1}\n",
    "        old_state_actv = torch.matmul(hidden, self.weights_hidden)\n",
    "        # updated hidden state (new state)\n",
    "        # g_1(W_{aa}a^{t-1} + W_{ax}x^t + b_a)\n",
    "        hidden = self.g1(old_state_actv + input_actv + self.bias_state)\n",
    "        \n",
    "        # W_{ya}a^t + b_y\n",
    "        output_actv = torch.matmul(hidden, self.weights_output)\n",
    "        # g_2(W_{ya}a^t + b_y)\n",
    "        output = self.g2(output_actv + self.bias_output)\n",
    "        \n",
    "        return output, hidden"
   ]
  },
  {
   "cell_type": "code",
   "execution_count": 3,
   "metadata": {},
   "outputs": [],
   "source": [
    "rnn = RNNCell(512, 2, 256)\n",
    "inputs = torch.randn(3,5,512)\n",
    "hidden = torch.randn(1, 5, 256)\n",
    "o, h = rnn(inputs, hidden)"
   ]
  },
  {
   "cell_type": "code",
   "execution_count": 4,
   "metadata": {},
   "outputs": [
    {
     "name": "stdout",
     "output_type": "stream",
     "text": [
      "torch.Size([3, 5, 512])\n",
      "torch.Size([3, 5, 2])\n",
      "torch.Size([1, 5, 256])\n"
     ]
    }
   ],
   "source": [
    "print(inputs.shape)\n",
    "print(o.shape)\n",
    "print(hidden.shape)"
   ]
  },
  {
   "cell_type": "code",
   "execution_count": 5,
   "metadata": {},
   "outputs": [],
   "source": [
    "class LayerNorm(nn.Module):\n",
    "\n",
    "    def __init__(self, features, eps=1e-6):\n",
    "        super().__init__()\n",
    "        self.gamma = nn.Parameter(torch.ones(features))\n",
    "        self.beta = nn.Parameter(torch.zeros(features))\n",
    "        self.eps = eps\n",
    "\n",
    "    def forward(self, x):\n",
    "        mean = x.mean(-1, keepdim=True)\n",
    "        std = x.std(-1, keepdim=True)\n",
    "        return self.gamma * (x - mean) / (std + self.eps) + self.beta"
   ]
  },
  {
   "cell_type": "code",
   "execution_count": 6,
   "metadata": {},
   "outputs": [],
   "source": [
    "class LSTMCell(nn.Module):\n",
    "    \"\"\"A vanilla LSTM cell       \n",
    "    \n",
    "    An LSTM cell which takes two inputs: x and previous hidden state\n",
    "    and outputs the current cell state and hidden state.\n",
    "    Conditionally, an output cell can also be learnt where the final\n",
    "    hidden state is reprojected to the required dimension.\n",
    "    \n",
    "    Parameters\n",
    "    ==========\n",
    "    input_dim: Dimension of input data\n",
    "    hidden_dim: Size of hidden state\n",
    "    output_dim: Dimension of outputs for each input\n",
    "\n",
    "    \"\"\"\n",
    "    def __init__(self, input_dim, hidden_dim, output_dim=None, xavier_init=False):\n",
    "        super().__init__()\n",
    "        dim_size = input_dim + hidden_dim\n",
    "        if xavier_init:\n",
    "            n = (dim_size + hidden_dim) / 2\n",
    "            self.initialize_with_Xavier(n, dim_size, hidden_dim, output_dim)\n",
    "        else:\n",
    "            self.weights_forget = nn.Parameter(torch.randn(dim_size, hidden_dim))\n",
    "            self.bias_forget = nn.Parameter(torch.randn(hidden_dim))\n",
    "            self.weights_input = nn.Parameter(torch.randn(dim_size, hidden_dim))\n",
    "            self.bias_input = nn.Parameter(torch.randn(hidden_dim))\n",
    "            self.weights_candidate = nn.Parameter(torch.randn(dim_size, hidden_dim))\n",
    "            self.bias_candidate = nn.Parameter(torch.randn(hidden_dim))\n",
    "            self.weights_output = nn.Parameter(torch.randn(dim_size, hidden_dim))\n",
    "            self.bias_output = nn.Parameter(torch.randn(hidden_dim))\n",
    "            if output_dim is not None:\n",
    "                self.output_projection = nn.Parameter(torch.randn(hidden_dim, output_dim))\n",
    "                self.softmax = nn.Softmax(dim=2)\n",
    "        \n",
    "        self.g1 = nn.Sigmoid()\n",
    "        self.g2 = nn.Tanh()\n",
    "    \n",
    "    def forward(self, x, hidden_state, old_state):\n",
    "        # Design and notations from:\n",
    "        #    https://colah.github.io/posts/2015-08-Understanding-LSTMs/\n",
    "        \n",
    "        # h^{t-1}x^t\n",
    "        concat_inputs = torch.cat((x, hidden_state), dim=2)\n",
    "        \n",
    "        # Forget gate: $\\Gamma_f = \\sigma(W_f.[h_{t-1}, x_t] + b_f)$\n",
    "        # Determines what(or how much) to throw away from old state\n",
    "        forget_g = self.g1(torch.matmul(concat_inputs, self.weights_forget) + \n",
    "                           self.bias_forget)\n",
    "        \n",
    "        # Input gate: $\\Gamma_i = \\sigma(W_i.[h_{t-1}, x_t] + b_i)$\n",
    "        # Decides which part of input is to be added\n",
    "        input_g = self.g1(torch.matmul(concat_inputs, self.weights_input) + \n",
    "                          self.bias_input)\n",
    "        \n",
    "        # Current candidate: $\\widetilde{C_t} = tanh(W_C.[h_{t-1}, x_t] + b_C)$\n",
    "        # Potential candidate to update the state with\n",
    "        candidate_new = self.g2(torch.matmul(concat_inputs, self.weights_candidate) + \n",
    "                                self.bias_candidate)\n",
    "        \n",
    "        # New state: $C_t = f_t * C_{t-1} + i_t * \\widetilde{C_t}$\n",
    "        new_state = torch.mul(forget_g, old_state) + \\\n",
    "                    torch.mul(input_g, candidate_new)\n",
    "        \n",
    "        # Output gate: $\\Gamma_o = \\sigma(W_o.[h_{t-1}, x_t] + b_o)$\n",
    "        # Determines what to output based on current input and\n",
    "        #    previous hidden state\n",
    "        output_g = self.g1(torch.matmul(concat_inputs, self.weights_output) + \n",
    "                           self.bias_output)\n",
    "        # New hidden state/output: $h_t = \\Gamma_o * tanh(C_t)$\n",
    "        hidden_state = torch.mul(output_g, self.g2(new_state))\n",
    "        \n",
    "        output = None\n",
    "        if hasattr(self, 'output_projection') and hasattr(self, 'softmax'):\n",
    "            output = self.softmax(torch.matmul(hidden_state, self.output_projection))\n",
    "        \n",
    "        return new_state, hidden_state, output\n",
    "    \n",
    "    def initialize_with_Xavier(self, n_var, dim_size, hidden_dim, output_dim):\n",
    "        gauss = tdist.Normal(0, 1 / np.sqrt(n_var))\n",
    "        self.weights_forget = nn.Parameter(gauss.sample((dim_size, hidden_dim)))\n",
    "        self.bias_forget = nn.Parameter(gauss.sample((hidden_dim,)))\n",
    "        self.weights_input = nn.Parameter(gauss.sample((dim_size, hidden_dim)))\n",
    "        self.bias_input = nn.Parameter(gauss.sample((hidden_dim,)))\n",
    "        self.weights_candidate = nn.Parameter(gauss.sample((dim_size, hidden_dim)))\n",
    "        self.bias_candidate = nn.Parameter(gauss.sample((hidden_dim,)))\n",
    "        self.weights_output = nn.Parameter(gauss.sample((dim_size, hidden_dim)))\n",
    "        self.bias_output = nn.Parameter(gauss.sample((hidden_dim,)))\n",
    "        if output_dim is not None:\n",
    "            self.output_projection = nn.Parameter(gauss.sample((hidden_dim, output_dim)))\n",
    "            self.softmax = nn.Softmax(dim=2)\n",
    "        "
   ]
  },
  {
   "cell_type": "code",
   "execution_count": 10,
   "metadata": {},
   "outputs": [],
   "source": [
    "# LSTM without Output cell and Xavier initialization\n",
    "\n",
    "lstm = LSTMCell(512, 256)\n",
    "batch = 2\n",
    "inputs = torch.randn(3, batch, 512)\n",
    "hidden = torch.randn(1, batch, 256)\n",
    "state = torch.randn(256)\n",
    "new_state, h, _ = lstm(inputs[0].unsqueeze(0), hidden, state)"
   ]
  },
  {
   "cell_type": "code",
   "execution_count": 11,
   "metadata": {},
   "outputs": [
    {
     "name": "stdout",
     "output_type": "stream",
     "text": [
      "torch.Size([1, 2, 512])\n",
      "torch.Size([1, 2, 256])\n",
      "torch.Size([1, 2, 256])\n"
     ]
    }
   ],
   "source": [
    "print(inputs[0].unsqueeze(0).shape)\n",
    "print(new_state.shape)\n",
    "print(h.shape)"
   ]
  },
  {
   "cell_type": "code",
   "execution_count": 24,
   "metadata": {},
   "outputs": [],
   "source": [
    "# LSTM with Output cell and Xavier initialization\n",
    "\n",
    "lstm = LSTMCell(512, 256, 2, True)\n",
    "batch = 5\n",
    "inputs = torch.randn(3, batch, 512)\n",
    "hidden = torch.randn(1, batch, 256)\n",
    "state = torch.randn(256)"
   ]
  },
  {
   "cell_type": "code",
   "execution_count": 25,
   "metadata": {},
   "outputs": [
    {
     "name": "stdout",
     "output_type": "stream",
     "text": [
      "torch.Size([1, 5, 2])\n",
      "torch.Size([1, 5, 256])\n",
      "torch.Size([1, 5, 256])\n"
     ]
    }
   ],
   "source": [
    "new_state, h, o = lstm(inputs[0].unsqueeze(0), hidden, state)\n",
    "print(o.shape)\n",
    "print(h.shape)\n",
    "print(new_state.shape)"
   ]
  },
  {
   "cell_type": "code",
   "execution_count": 26,
   "metadata": {},
   "outputs": [
    {
     "name": "stdout",
     "output_type": "stream",
     "text": [
      "tensor([[0, 0, 0, 0, 0]])\n",
      "tensor([1, 1, 1, 1, 1])\n"
     ]
    }
   ],
   "source": [
    "print(torch.argmax(o, dim=2))\n",
    "gt = (torch.ones(batch).long() - torch.argmax(o, dim=2)[0].long())\n",
    "print(gt)"
   ]
  },
  {
   "cell_type": "code",
   "execution_count": 27,
   "metadata": {},
   "outputs": [
    {
     "name": "stdout",
     "output_type": "stream",
     "text": [
      "Loss: 0.7564923167228699\n"
     ]
    }
   ],
   "source": [
    "loss_criterion = nn.CrossEntropyLoss()\n",
    "\n",
    "optimizer = torch.optim.Adam(lstm.parameters(), lr=0.001)\n",
    "optimizer.zero_grad()\n",
    "\n",
    "loss = loss_criterion(o.view(batch, -1), gt)\n",
    "print(\"Loss: {}\".format(loss.item()))\n",
    "loss.backward()\n",
    "\n",
    "optimizer.step()"
   ]
  },
  {
   "cell_type": "markdown",
   "metadata": {},
   "source": [
    "### Full LSTM Architecture"
   ]
  },
  {
   "cell_type": "code",
   "execution_count": 170,
   "metadata": {},
   "outputs": [],
   "source": [
    "class LSTM(nn.Module):\n",
    "    def __init__(self, ncell, input_dim, hidden_dim, output_dim, xavier_init=True):\n",
    "        super().__init__()\n",
    "        archi = []\n",
    "        for i in range(ncell):\n",
    "            archi.append(LSTMCell(input_dim, hidden_dim, None, xavier_init))\n",
    "        self.archi = nn.ModuleList(archi)\n",
    "        self.final_layer = nn.Linear(hidden_dim, output_dim)\n",
    "        self.softmax = nn.Softmax(dim=2) # use nn.LogSoftmax?\n",
    "        \n",
    "    def forward(self, x, hidden_state, cell_state):\n",
    "        history = len(self.archi)\n",
    "        seq_length = x.shape[0]\n",
    "        assert(seq_length >= history)\n",
    "        for i in range(seq_length - history + 1):\n",
    "            for j in range(history):\n",
    "                inputs = x[i+j].unsqueeze(0)\n",
    "                cell_state, hidden_state, _ = self.archi[j](inputs, hidden_state, cell_state)\n",
    "        output = self.softmax(self.final_layer(hidden_state))\n",
    "        return cell_state, hidden_state, output\n",
    "    \n",
    "    def count_parameters(self):\n",
    "        return sum(p.numel() for p in self.parameters() if p.requires_grad)"
   ]
  },
  {
   "cell_type": "code",
   "execution_count": null,
   "metadata": {},
   "outputs": [],
   "source": []
  },
  {
   "cell_type": "markdown",
   "metadata": {},
   "source": [
    "## Creating datasets"
   ]
  },
  {
   "cell_type": "markdown",
   "metadata": {},
   "source": [
    "### Counting sequence"
   ]
  },
  {
   "cell_type": "code",
   "execution_count": 28,
   "metadata": {},
   "outputs": [],
   "source": [
    "x = torch.randint(0, 2, (1000,100)).float()\n",
    "y = torch.sum(x, 1)"
   ]
  },
  {
   "cell_type": "code",
   "execution_count": 32,
   "metadata": {},
   "outputs": [],
   "source": [
    "input_dim = 1\n",
    "seq_length = 100\n",
    "hidden_dim = 50\n",
    "output_dim = 100\n",
    "lstm = LSTMCell(input_dim=input_dim, hidden_dim=hidden_dim, \n",
    "                output_dim=output_dim, xavier_init=True)\n",
    "optimizer = optim.Adam(lstm.parameters(), lr=0.001)\n",
    "loss_criterion = nn.CrossEntropyLoss()"
   ]
  },
  {
   "cell_type": "code",
   "execution_count": 33,
   "metadata": {},
   "outputs": [
    {
     "name": "stdout",
     "output_type": "stream",
     "text": [
      "Epoch #100: Batch 100/100 -- Loss = 4.553095817565918\r"
     ]
    }
   ],
   "source": [
    "# Training Loop\n",
    "batch_size = 10\n",
    "# for i in range(10):\n",
    "for j in range(int(1000/batch_size)):\n",
    "    start = j * batch_size\n",
    "    end = min((j+1) * batch_size, 1000)\n",
    "    x_train = torch.tensor([]).float()\n",
    "    y_train = y[start:end]\n",
    "    # creating the 3D tensor for the batch: seq x batch x dim\n",
    "    for data in x[start:end]:\n",
    "        x_train = torch.cat((x_train, data.view(seq_length, 1, 1)), dim=1)\n",
    "    # initializing states\n",
    "    hidden_state = torch.zeros(1, batch_size, hidden_dim)\n",
    "    cell_state = torch.zeros(1, batch_size, hidden_dim)\n",
    "    # forward pass for the batch\n",
    "    for i, seq_i in enumerate(x_train):        \n",
    "        cell_state, hidden_state, output = lstm(x=seq_i.unsqueeze(0), \n",
    "                                                hidden_state=hidden_state, \n",
    "                                                old_state=cell_state)\n",
    "    loss = loss_criterion(output.view(batch_size, -1), y_train.long())\n",
    "    print(\"Epoch #{}: Batch {}/{} -- Loss = {}\".format(i+1, j+1, int(1000/batch_size), \n",
    "                                                       loss.item()), end='\\r')\n",
    "    # backward pass for the batch (+ weight updates)\n",
    "    loss = loss_criterion(output.view(batch_size, -1), y_train.long())\n",
    "    optimizer.zero_grad()\n",
    "    loss.backward()\n",
    "    optimizer.step()"
   ]
  },
  {
   "cell_type": "code",
   "execution_count": 34,
   "metadata": {},
   "outputs": [
    {
     "name": "stdout",
     "output_type": "stream",
     "text": [
      "tensor([[51, 51, 51, 51, 51, 51, 51, 51, 51, 51]])\n"
     ]
    }
   ],
   "source": [
    "print(torch.argmax(output, dim=2))"
   ]
  },
  {
   "cell_type": "code",
   "execution_count": null,
   "metadata": {},
   "outputs": [],
   "source": []
  },
  {
   "cell_type": "markdown",
   "metadata": {},
   "source": [
    "### Classifying product as positive/negative"
   ]
  },
  {
   "cell_type": "code",
   "execution_count": 174,
   "metadata": {},
   "outputs": [
    {
     "name": "stdout",
     "output_type": "stream",
     "text": [
      "41702\n"
     ]
    }
   ],
   "source": [
    "input_dim = 1\n",
    "seq_length = 10\n",
    "hidden_dim = 50\n",
    "output_dim = 2\n",
    "x_size = 1000\n",
    "\n",
    "x = torch.randn((x_size, seq_length)).float()\n",
    "y = torch.prod(x1, 1)\n",
    "y[y >= 0] = 1\n",
    "y[y < 0] = 0\n",
    "# print(torch.histc(y, bins=2))\n",
    "\n",
    "lstm = LSTM(ncell=4, input_dim=input_dim, hidden_dim=hidden_dim, \n",
    "                output_dim=output_dim, xavier_init=True)\n",
    "optimizer = optim.Adam(lstm.parameters(), lr=0.0001)\n",
    "loss_criterion = nn.CrossEntropyLoss()\n",
    "print(lstm.count_parameters())"
   ]
  },
  {
   "cell_type": "code",
   "execution_count": 158,
   "metadata": {},
   "outputs": [],
   "source": [
    "# Testing of batch creating and forward pass\n",
    "\n",
    "# x_train = x\n",
    "# y_train = y\n",
    "\n",
    "# batch_size = 4\n",
    "# j = 0\n",
    "# start = j * batch_size\n",
    "# end = min((j+1) * batch_size, 1000)\n",
    "\n",
    "# x_train = torch.tensor([]).float()\n",
    "# y_train = y[start:end]\n",
    "# # creating the 3D tensor for the batch: seq x batch x dim\n",
    "# for data in x[start:end]:\n",
    "#     x_train = torch.cat((x_train, data.view(seq_length, 1, 1)), dim=1)\n",
    "\n",
    "# # initializing states\n",
    "# hidden_state = torch.zeros(1, batch_size, hidden_dim)\n",
    "# cell_state = torch.zeros(1, batch_size, hidden_dim)\n",
    "\n",
    "# print(x_train.shape, y_train.shape)\n",
    "# print(hidden_state.shape, cell_state.shape)\n",
    "\n",
    "# s,h,o = lstm(x_train, hidden_state, cell_state)"
   ]
  },
  {
   "cell_type": "code",
   "execution_count": null,
   "metadata": {},
   "outputs": [],
   "source": [
    "# TRAINING LOOP\n",
    "\n",
    "# Each batch passed to LSTM() is expected to be a 3D Tensor where\n",
    "# the dimensions describe [sequence_size, batch_size, dim_size]\n",
    "\n",
    "batch_size = 16\n",
    "\n",
    "for i in range(1000):\n",
    "    for j in range(int(x_size/batch_size)):\n",
    "        start = j * batch_size\n",
    "        end = min((j+1) * batch_size, x_size)\n",
    "        x_train = torch.tensor([]).float()\n",
    "        y_train = y[start:end]\n",
    "        # creating the 3D tensor for the batch: seq x batch x dim\n",
    "        for data in x[start:end]:\n",
    "            x_train = torch.cat((x_train, data.view(seq_length, 1, 1)), dim=1)\n",
    "        # initializing states\n",
    "        hidden_state = torch.zeros(1, batch_size, hidden_dim)\n",
    "        cell_state = torch.zeros(1, batch_size, hidden_dim)\n",
    "        cell_state, hidden_state, output = lstm(x=x_train, \n",
    "                                                hidden_state=hidden_state, \n",
    "                                                cell_state=cell_state)\n",
    "        loss = loss_criterion(output.view(batch_size, -1), y_train.long())\n",
    "        print(\"Epoch #{}: Batch {}/{} -- Loss = {}\".format(i+1, j+1, int(x_size/batch_size), \n",
    "                                                           loss.item()), end='\\r')\n",
    "        # backward pass for the batch (+ weight updates)\n",
    "        loss = loss_criterion(output.view(batch_size, -1), y_train.long())\n",
    "        optimizer.zero_grad()\n",
    "        loss.backward()\n",
    "        optimizer.step()\n",
    "    print()"
   ]
  },
  {
   "cell_type": "code",
   "execution_count": 185,
   "metadata": {},
   "outputs": [
    {
     "name": "stdout",
     "output_type": "stream",
     "text": [
      "torch.Size([10, 1000, 1])\n",
      "torch.Size([1000])\n"
     ]
    }
   ],
   "source": [
    "x_train = torch.tensor([]).float()\n",
    "y_train = y\n",
    "# creating the 3D tensor for the batch: seq x batch x dim\n",
    "for data in x:\n",
    "    x_train = torch.cat((x_train, data.view(seq_length, 1, 1)), dim=1)\n",
    "print(x_train.shape)\n",
    "print(y.shape)\n",
    "hidden_state = torch.zeros(1, x_train.shape[1], hidden_dim)\n",
    "cell_state = torch.zeros(1, x_train.shape[1], hidden_dim)\n",
    "_, _, output = lstm(x=x_train, hidden_state=hidden_state, cell_state=cell_state)"
   ]
  },
  {
   "cell_type": "code",
   "execution_count": 186,
   "metadata": {},
   "outputs": [
    {
     "data": {
      "text/plain": [
       "array([[302, 189],\n",
       "       [317, 192]])"
      ]
     },
     "execution_count": 186,
     "metadata": {},
     "output_type": "execute_result"
    }
   ],
   "source": [
    "from sklearn.metrics import confusion_matrix\n",
    "confusion_matrix(y, torch.argmax(output, 2)[0].numpy())"
   ]
  },
  {
   "cell_type": "code",
   "execution_count": 188,
   "metadata": {},
   "outputs": [
    {
     "data": {
      "text/plain": [
       "0.494"
      ]
     },
     "execution_count": 188,
     "metadata": {},
     "output_type": "execute_result"
    }
   ],
   "source": [
    "(302 + 192) / (302 + 192 + 189 + 317)"
   ]
  },
  {
   "cell_type": "markdown",
   "metadata": {},
   "source": [
    "#### IMDB"
   ]
  },
  {
   "cell_type": "code",
   "execution_count": 35,
   "metadata": {},
   "outputs": [],
   "source": [
    "# @InProceedings{maas-EtAl:2011:ACL-HLT2011,\n",
    "#   author    = {Maas, Andrew L.  and  Daly, Raymond E.  and  Pham, Peter T.  and  Huang, Dan  and  Ng, Andrew Y.  and  Potts, Christopher},\n",
    "#   title     = {Learning Word Vectors for Sentiment Analysis},\n",
    "#   booktitle = {Proceedings of the 49th Annual Meeting of the Association for Computational Linguistics: Human Language Technologies},\n",
    "#   month     = {June},\n",
    "#   year      = {2011},\n",
    "#   address   = {Portland, Oregon, USA},\n",
    "#   publisher = {Association for Computational Linguistics},\n",
    "#   pages     = {142--150},\n",
    "#   url       = {http://www.aclweb.org/anthology/P11-1015}\n",
    "# }"
   ]
  },
  {
   "cell_type": "code",
   "execution_count": 113,
   "metadata": {},
   "outputs": [
    {
     "data": {
      "image/png": "[encoded data removed]",
      "text/plain": [
       "<IPython.core.display.Image object>"
      ]
     },
     "execution_count": 113,
     "metadata": {},
     "output_type": "execute_result"
    }
   ],
   "source": [
    "from IPython.display import Image\n",
    "Image(filename='../img/sentiment.png') \n",
    "# source:(https://towardsdatascience.com/sentiment-analysis-using-lstm-step-by-step-50d074f09948)"
   ]
  },
  {
   "cell_type": "code",
   "execution_count": 86,
   "metadata": {},
   "outputs": [],
   "source": []
  }
 ],
 "metadata": {
  "colab": {
   "collapsed_sections": [],
   "name": "LSTM.ipynb",
   "provenance": [],
   "version": "0.3.2"
  },
  "kernelspec": {
   "display_name": "Python 3",
   "language": "python",
   "name": "python3"
  },
  "language_info": {
   "codemirror_mode": {
    "name": "ipython",
    "version": 3
   },
   "file_extension": ".py",
   "mimetype": "text/x-python",
   "name": "python",
   "nbconvert_exporter": "python",
   "pygments_lexer": "ipython3",
   "version": "3.6.8"
  }
 },
 "nbformat": 4,
 "nbformat_minor": 1
}
