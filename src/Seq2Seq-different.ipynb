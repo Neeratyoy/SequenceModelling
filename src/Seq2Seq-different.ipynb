{
  "nbformat": 4,
  "nbformat_minor": 0,
  "metadata": {
    "colab": {
      "name": "Seq2Seq-different.ipynb",
      "version": "0.3.2",
      "provenance": [],
      "collapsed_sections": [
        "6BLdqZYbVuDE"
      ],
      "toc_visible": true
    },
    "language_info": {
      "codemirror_mode": {
        "name": "ipython",
        "version": 3
      },
      "file_extension": ".py",
      "mimetype": "text/x-python",
      "name": "python",
      "nbconvert_exporter": "python",
      "pygments_lexer": "ipython3",
      "version": "3.6.8"
    },
    "kernelspec": {
      "name": "python3",
      "display_name": "Python 3"
    },
    "accelerator": "GPU"
  },
  "cells": [
    {
      "cell_type": "code",
      "metadata": {
        "id": "UlO122p0VuBN",
        "colab_type": "code",
        "colab": {}
      },
      "source": [
        "import torch\n",
        "import torch.nn as nn\n",
        "import torch.optim as optim\n",
        "\n",
        "import os\n",
        "import json\n",
        "import time\n",
        "import random\n",
        "import numpy as np\n",
        "from matplotlib import pyplot as plt\n",
        "from sklearn.metrics import confusion_matrix, f1_score, classification_report\n",
        "from sklearn.metrics import accuracy_score, precision_score, recall_score\n",
        "\n",
        "from IPython.display import Image\n",
        "\n",
        "device = torch.device('cuda' if torch.cuda.is_available() else 'cpu')\n",
        "\n",
        "SEED = 1\n",
        "random.seed(SEED)\n",
        "torch.manual_seed(SEED)\n",
        "torch.backends.cudnn.deterministic = True\n",
        "torch.backends.cudnn.benchmark = False"
      ],
      "execution_count": 0,
      "outputs": []
    },
    {
      "cell_type": "markdown",
      "metadata": {
        "id": "6cDKfMiQZKOw",
        "colab_type": "text"
      },
      "source": [
        "### Common parameters"
      ]
    },
    {
      "cell_type": "code",
      "metadata": {
        "id": "cAjXMJbDVuBf",
        "colab_type": "code",
        "colab": {}
      },
      "source": [
        "batch_size = 32\n",
        "# Percentage of training data\n",
        "learning_rate = 0.001"
      ],
      "execution_count": 0,
      "outputs": []
    },
    {
      "cell_type": "markdown",
      "metadata": {
        "id": "U6Ew_zshVuBo",
        "colab_type": "text"
      },
      "source": [
        "## n-copy task dataset\n",
        "\n",
        "The entire dataset comprises of the binary representation of all numbers uptil a range defined. The binary sequence from left to right (most significant to least significant) is the input. The target is just the reverse sequence."
      ]
    },
    {
      "cell_type": "code",
      "metadata": {
        "id": "GpBOzxKjVuBr",
        "colab_type": "code",
        "outputId": "1542d84b-2f3f-4ddc-9ada-1107ba648f9e",
        "colab": {
          "base_uri": "https://localhost:8080/",
          "height": 119
        }
      },
      "source": [
        "from seq_seq_different import create_ncopy_task\n",
        "\n",
        "# Start token\n",
        "START = torch.tensor([1,1]).to(device)\n",
        "\n",
        "# normal sequence\n",
        "train_loader, test_loader, valid_loader = create_ncopy_task(sequence_length=15, \n",
        "                                                            n_copy=10,\n",
        "                                                            batch_size=batch_size,\n",
        "                                                            start_token=1,\n",
        "                                                            train_test_ratio=0.9, \n",
        "                                                            train_valid_ratio=0.8,\n",
        "                                                            verbose=True)\n",
        "\n",
        "# sequence with longer output\n",
        "long_output_train_loader, \\\n",
        "long_output_test_loader, \\\n",
        "long_output_val_loader = create_ncopy_task(sequence_length=15, \n",
        "                                           n_copy=20,\n",
        "                                           batch_size=batch_size,\n",
        "                                           start_token=1,\n",
        "                                           train_test_ratio=0.9, \n",
        "                                           train_valid_ratio=0.8)\n",
        "\n",
        "# Sequence with longer input\n",
        "long_input_train_loader, \\\n",
        "long_input_test_loader, \\\n",
        "long_input_val_loader = create_ncopy_task(sequence_length=25, \n",
        "                                           n_copy=10,\n",
        "                                           batch_size=batch_size,\n",
        "                                           start_token=1,\n",
        "                                           train_test_ratio=0.9, \n",
        "                                           train_valid_ratio=0.8)\n"
      ],
      "execution_count": 3,
      "outputs": [
        {
          "output_type": "stream",
          "text": [
            "torch.Size([16, 9000, 2]) torch.Size([151, 9000, 2])\n",
            "torch.Size([16, 1000, 2]) torch.Size([151, 1000, 2])\n",
            "torch.Size([16, 9000, 2]) torch.Size([301, 9000, 2])\n",
            "torch.Size([16, 1000, 2]) torch.Size([301, 1000, 2])\n",
            "torch.Size([26, 9000, 2]) torch.Size([251, 9000, 2])\n",
            "torch.Size([26, 1000, 2]) torch.Size([251, 1000, 2])\n"
          ],
          "name": "stdout"
        }
      ]
    },
    {
      "cell_type": "markdown",
      "metadata": {
        "id": "WzcP0iOtZDxS",
        "colab_type": "text"
      },
      "source": [
        "# LSTM"
      ]
    },
    {
      "cell_type": "code",
      "metadata": {
        "id": "3lO9RngFZFNm",
        "colab_type": "code",
        "colab": {}
      },
      "source": [
        "# Input dim\n",
        "input_dim = 2\n",
        "# Number of hidden nodes\n",
        "hidden_dim = 32\n",
        "# Number of output nodes\n",
        "output_dim = 2\n",
        "# Number of LSTMs cells to be stacked\n",
        "layers = 1\n",
        "# Boolean value for bidirectioanl or not\n",
        "bidirectional = True\n",
        "# Boolean value to use LayerNorm or not\n",
        "layernorm = True"
      ],
      "execution_count": 0,
      "outputs": []
    },
    {
      "cell_type": "markdown",
      "metadata": {
        "id": "FMsw_1kAVuB8",
        "colab_type": "text"
      },
      "source": [
        "## Our implementation"
      ]
    },
    {
      "cell_type": "code",
      "metadata": {
        "id": "xbHxGL4dVuB-",
        "colab_type": "code",
        "outputId": "264ca416-0be2-491b-ed30-9e061239fd61",
        "colab": {
          "base_uri": "https://localhost:8080/",
          "height": 408
        }
      },
      "source": [
        "from seq_seq_different import LSTMSeq2SeqDifferent\n",
        "\n",
        "our = LSTMSeq2SeqDifferent(input_dim, hidden_dim, output_dim, bidirectional=bidirectional, \n",
        "                           layers=layers, layernorm=layernorm).to(device)\n",
        "\n",
        "print(\"Our implementation\\n{}\".format(\"=\" * len(\"Our implementation\")))\n",
        "print(\"# of parameters: {}\".format(our.count_parameters()))\n",
        "for name, param in our.named_parameters():\n",
        "    print(\"{:<40}: {}\".format(name, param.shape))"
      ],
      "execution_count": 16,
      "outputs": [
        {
          "output_type": "stream",
          "text": [
            "Our implementation\n",
            "==================\n",
            "# of parameters: 27522\n",
            "encoder.model.0.weights                 : torch.Size([34, 128])\n",
            "encoder.model.0.bias                    : torch.Size([128])\n",
            "encoder.model.0.ln_gates.weight         : torch.Size([128])\n",
            "encoder.model.0.ln_gates.bias           : torch.Size([128])\n",
            "encoder.model.0.ln_candidate.weight     : torch.Size([32])\n",
            "encoder.model.0.ln_candidate.bias       : torch.Size([32])\n",
            "encoder.model_rev.0.weights             : torch.Size([34, 128])\n",
            "encoder.model_rev.0.bias                : torch.Size([128])\n",
            "encoder.model_rev.0.ln_gates.weight     : torch.Size([128])\n",
            "encoder.model_rev.0.ln_gates.bias       : torch.Size([128])\n",
            "encoder.model_rev.0.ln_candidate.weight : torch.Size([32])\n",
            "encoder.model_rev.0.ln_candidate.bias   : torch.Size([32])\n",
            "decoder.model.0.weights                 : torch.Size([66, 256])\n",
            "decoder.model.0.bias                    : torch.Size([256])\n",
            "decoder.model.0.ln_gates.weight         : torch.Size([256])\n",
            "decoder.model.0.ln_gates.bias           : torch.Size([256])\n",
            "decoder.model.0.ln_candidate.weight     : torch.Size([64])\n",
            "decoder.model.0.ln_candidate.bias       : torch.Size([64])\n",
            "fc.weight                               : torch.Size([2, 64])\n",
            "fc.bias                                 : torch.Size([2])\n"
          ],
          "name": "stdout"
        }
      ]
    },
    {
      "cell_type": "code",
      "metadata": {
        "id": "-gS3tg9nVuCE",
        "colab_type": "code",
        "outputId": "d85e5e93-6c8b-4871-9f9b-26790c4cd092",
        "colab": {
          "base_uri": "https://localhost:8080/",
          "height": 1000
        }
      },
      "source": [
        "from seq_seq_different import Seq2SeqDifferent\n",
        "\n",
        "loss_fn = nn.CrossEntropyLoss()\n",
        "optimizer = torch.optim.Adam(our.parameters(), lr=learning_rate)\n",
        "out_dir = 'results/Seq2SeqDifferent/lstm/'\n",
        "\n",
        "task_our = Seq2SeqDifferent(model=our, optimizer=optimizer, loss_fn=loss_fn, device=device, teacher_forcing=0.1)\n",
        "\n",
        "our, our_stats = task_our.train(100, train_loader, valid_loader, freq=5,\n",
        "                                out_dir=out_dir, train_eval=False)"
      ],
      "execution_count": 17,
      "outputs": [
        {
          "output_type": "stream",
          "text": [
            "Beginning training model with 27522 parameters\n",
            "Files will be saved in: results/Seq2SeqDifferent/lstm/\n",
            "\n",
            "\n",
            "Epoch #1: Average loss is 0.6820305744806926\n",
            ".........................................................\n",
            "Epoch #1: Validation F1 is 0.6019741681132131\n",
            "Time taken for epoch: 156.4402961730957s\n",
            "\n",
            "\n",
            "Epoch #2: Average loss is 0.6431047995885213\n",
            "Time taken for epoch: 141.4685411453247s\n",
            "\n",
            "\n",
            "Epoch #3: Average loss is 0.6330679175588819\n",
            "Time taken for epoch: 141.4116189479828s\n",
            "\n",
            "\n",
            "Epoch #4: Average loss is 0.6282683560583326\n",
            "Time taken for epoch: 141.72638034820557s\n",
            "\n",
            "\n",
            "Epoch #5: Average loss is 0.6241913617981805\n",
            ".........................................................\n",
            "Epoch #5: Validation F1 is 0.683416946719756\n",
            "Time taken for epoch: 152.50709581375122s\n",
            "\n",
            "\n",
            "Epoch #6: Average loss is 0.6169506200154622\n",
            "Time taken for epoch: 141.62164878845215s\n",
            "\n",
            "\n",
            "Epoch #7: Average loss is 0.6044301748275757\n",
            "Time taken for epoch: 140.11064672470093s\n",
            "\n",
            "\n",
            "Epoch #8: Average loss is 0.5852687101893955\n",
            "Time taken for epoch: 139.64706563949585s\n",
            "\n",
            "\n",
            "Epoch #9: Average loss is 0.576239775021871\n",
            "Time taken for epoch: 137.59920477867126s\n",
            "\n",
            "\n",
            "Epoch #10: Average loss is 0.5721275167995029\n",
            ".........................................................\n",
            "Epoch #10: Validation F1 is 0.7448909762791468\n",
            "Time taken for epoch: 152.3453962802887s\n",
            "\n",
            "\n",
            "Epoch #11: Average loss is 0.5595031052165561\n",
            "Time taken for epoch: 140.51585292816162s\n",
            "\n",
            "\n",
            "Epoch #12: Average loss is 0.5497830971082052\n",
            "Time taken for epoch: 142.10370016098022s\n",
            "\n",
            "\n",
            "Epoch #13: Average loss is 0.5457966748873393\n",
            "Time taken for epoch: 141.4213206768036s\n",
            "\n",
            "\n",
            "Epoch #14: Average loss is 0.5399791044659085\n",
            "Time taken for epoch: 141.5746762752533s\n",
            "\n",
            "\n",
            "Epoch #15: Average loss is 0.5343106476465861\n",
            ".........................................................\n",
            "Epoch #15: Validation F1 is 0.7745867667853138\n",
            "Time taken for epoch: 153.89120054244995s\n",
            "\n",
            "\n",
            "Epoch #16: Average loss is 0.5295167709721459\n",
            "Time taken for epoch: 139.30130553245544s\n",
            "\n",
            "\n",
            "Epoch #17: Average loss is 0.5250331513086954\n",
            "Time taken for epoch: 138.5851879119873s\n",
            "\n",
            "\n",
            "Epoch #18: Average loss is 0.5198746976587507\n",
            "Time taken for epoch: 142.08972716331482s\n",
            "\n",
            "\n",
            "Epoch #19: Average loss is 0.5167986844645606\n",
            "Time taken for epoch: 143.19178462028503s\n",
            "\n",
            "\n",
            "Epoch #20: Average loss is 0.5153498323758443\n",
            ".........................................................\n",
            "Epoch #20: Validation F1 is 0.7863790065924074\n",
            "Time taken for epoch: 155.77077388763428s\n",
            "\n",
            "\n",
            "Epoch #21: Average loss is 0.5089389431476593\n",
            "Time taken for epoch: 143.05049753189087s\n",
            "\n",
            "\n",
            "Epoch #22: Average loss is 0.5067027080059051\n",
            "Time taken for epoch: 141.3725941181183s\n",
            "\n",
            "\n",
            "Epoch #23: Average loss is 0.5041604808966319\n",
            "Time taken for epoch: 139.59763193130493s\n",
            "\n",
            "\n",
            "Epoch #24: Average loss is 0.5008977364169227\n",
            "Time taken for epoch: 143.60009288787842s\n",
            "\n",
            "\n",
            "Epoch #25: Average loss is 0.4980931602583991\n",
            ".........................................................\n",
            "Epoch #25: Validation F1 is 0.8050147054023766\n",
            "Time taken for epoch: 157.14990735054016s\n",
            "\n",
            "\n",
            "Epoch #26: Average loss is 0.4835817152924008\n",
            "Time taken for epoch: 141.57041478157043s\n",
            "\n",
            "\n",
            "Epoch #27: Average loss is 0.4579941405190362\n",
            "Time taken for epoch: 141.73452591896057s\n",
            "\n",
            "\n",
            "Epoch #28: Average loss is 0.4354443481233385\n",
            "Time taken for epoch: 141.14681148529053s\n",
            "\n",
            "\n",
            "Epoch #29: Average loss is 0.42639347897635566\n",
            "Time taken for epoch: 141.5619888305664s\n",
            "\n",
            "\n",
            "Epoch #30: Average loss is 0.4162421210606893\n",
            ".........................................................\n",
            "Epoch #30: Validation F1 is 0.8878483818421189\n",
            "Time taken for epoch: 155.34251928329468s\n",
            "\n",
            "\n",
            "Epoch #31: Average loss is 0.401027532948388\n",
            "Time taken for epoch: 140.36484479904175s\n",
            "\n",
            "\n",
            "Epoch #32: Average loss is 0.3740716000398\n",
            "Time taken for epoch: 140.66691541671753s\n",
            "\n",
            "\n",
            "Epoch #33: Average loss is 0.3380396033657922\n",
            "Time taken for epoch: 141.22434520721436s\n",
            "\n",
            "\n",
            "Epoch #34: Average loss is 0.3247884359624651\n",
            "Time taken for epoch: 143.02669405937195s\n",
            "\n",
            "\n",
            "Epoch #35: Average loss is 0.31767674989170497\n",
            ".........................................................\n",
            "Epoch #35: Validation F1 is 0.9920019460702649\n",
            "Time taken for epoch: 153.55347681045532s\n",
            "\n",
            "\n",
            "Epoch #36: Average loss is 0.31833175977071126\n",
            "Time taken for epoch: 139.79812479019165s\n",
            "\n",
            "\n",
            "Epoch #37: Average loss is 0.3167186824480693\n",
            "Time taken for epoch: 140.9013373851776s\n",
            "\n",
            "\n",
            "Epoch #38: Average loss is 0.3157814620600806\n",
            "Time taken for epoch: 142.02801990509033s\n",
            "\n",
            "\n",
            "Epoch #39: Average loss is 0.31527532272868686\n",
            "Time taken for epoch: 141.68265104293823s\n",
            "\n",
            "\n",
            "Epoch #40: Average loss is 0.3150013228257497\n",
            ".........................................................\n",
            "Epoch #40: Validation F1 is 0.9961971581864277\n",
            "Time taken for epoch: 154.61988520622253s\n",
            "\n",
            "\n",
            "Epoch #41: Average loss is 0.3149473770459493\n",
            "Time taken for epoch: 142.07284426689148s\n",
            "\n",
            "\n",
            "Epoch #42: Average loss is 0.31495774308840435\n",
            "Time taken for epoch: 142.792546749115s\n",
            "\n",
            "\n",
            "Epoch #43: Average loss is 0.3137593330277337\n",
            "Time taken for epoch: 142.066663980484s\n",
            "\n",
            "\n",
            "Epoch #44: Average loss is 0.3186775381035275\n",
            "Time taken for epoch: 197.69457912445068s\n",
            "\n",
            "\n",
            "Epoch #45: Average loss is 0.31441493921809727\n",
            ".........................................................\n",
            "Epoch #45: Validation F1 is 0.995799946162611\n",
            "Time taken for epoch: 244.0529375076294s\n",
            "\n",
            "\n",
            "Epoch #46: Average loss is 0.3138887570963966\n",
            "Time taken for epoch: 190.13790369033813s\n",
            "\n",
            "\n",
            "Epoch #47: Average loss is 0.31360255863931447\n",
            "Time taken for epoch: 142.9370002746582s\n",
            "\n",
            "\n",
            "Epoch #48: Average loss is 0.31839243054389954\n",
            "Time taken for epoch: 142.24969959259033s\n",
            "\n",
            "\n",
            "Epoch #49: Average loss is 0.3138784803284539\n",
            "Time taken for epoch: 143.16863703727722s\n",
            "\n",
            "\n",
            "Epoch #50: Average loss is 0.31357388774553935\n",
            ".........................................................\n",
            "Epoch #50: Validation F1 is 0.9964211604875477\n",
            "Time taken for epoch: 155.97938442230225s\n",
            "\n",
            "\n",
            "Epoch #51: Average loss is 0.3135481451617347\n",
            "Time taken for epoch: 142.64997911453247s\n",
            "\n",
            "\n",
            "Epoch #52: Average loss is 0.31414408802986143\n",
            "Time taken for epoch: 139.92231607437134s\n",
            "\n",
            "\n",
            "Epoch #53: Average loss is 0.3137140431669023\n",
            "Time taken for epoch: 140.31839728355408s\n",
            "\n",
            "\n",
            "Epoch #54: Average loss is 0.31497924036449854\n",
            "Time taken for epoch: 141.51401019096375s\n",
            "\n",
            "\n",
            "Epoch #55: Average loss is 0.3137870188554128\n",
            ".........................................................\n",
            "Epoch #55: Validation F1 is 0.9962836791576339\n",
            "Time taken for epoch: 155.42041897773743s\n",
            "\n",
            "\n",
            "Epoch #56: Average loss is 0.3140047048197852\n",
            "Time taken for epoch: 142.36686038970947s\n",
            "\n",
            "\n",
            "Epoch #57: Average loss is 0.31551812953419156\n",
            "Time taken for epoch: 141.62357592582703s\n",
            "\n",
            "\n",
            "Epoch #58: Average loss is 0.3135176487763723\n",
            "Time taken for epoch: 142.20575165748596s\n",
            "\n",
            "\n",
            "Epoch #59: Average loss is 0.31340372257762483\n",
            "Time taken for epoch: 142.850923538208s\n",
            "\n",
            "\n",
            "Epoch #60: Average loss is 0.31329410473505653\n",
            ".........................................................\n",
            "Epoch #60: Validation F1 is 0.9966750466304436\n",
            "Time taken for epoch: 158.2062849998474s\n",
            "\n",
            "\n",
            "Epoch #61: Average loss is 0.31444785488976373\n",
            "Time taken for epoch: 143.97621726989746s\n",
            "\n",
            "\n",
            "Epoch #62: Average loss is 0.31390193674299455\n",
            "Time taken for epoch: 144.49562335014343s\n",
            "\n",
            "\n",
            "Epoch #63: Average loss is 0.3135504713323381\n",
            "Time taken for epoch: 144.27532172203064s\n",
            "\n",
            "\n",
            "Epoch #64: Average loss is 0.31712306949827407\n",
            "Time taken for epoch: 144.0049967765808s\n",
            "\n",
            "\n",
            "Epoch #65: Average loss is 0.31344838168885975\n",
            ".........................................................\n",
            "Epoch #65: Validation F1 is 0.9968293761982009\n",
            "Time taken for epoch: 156.86651229858398s\n",
            "\n",
            "\n",
            "Epoch #66: Average loss is 0.3134863369994693\n",
            "Time taken for epoch: 142.8577344417572s\n",
            "\n",
            "\n",
            "Epoch #67: Average loss is 0.3132819346586863\n",
            "Time taken for epoch: 141.3197386264801s\n",
            "\n",
            "\n",
            "Epoch #68: Average loss is 0.31328862600856355\n",
            "Time taken for epoch: 141.97532057762146s\n",
            "\n",
            "\n",
            "Epoch #69: Average loss is 0.31326736013094586\n",
            "Time taken for epoch: 141.58248710632324s\n",
            "\n",
            "\n",
            "Epoch #70: Average loss is 0.31326614167955186\n",
            ".........................................................\n",
            "Epoch #70: Validation F1 is 0.9966089200147438\n",
            "Time taken for epoch: 154.7065773010254s\n",
            "\n",
            "\n",
            "Epoch #71: Average loss is 0.3132647203074561\n",
            "Time taken for epoch: 142.43675065040588s\n",
            "\n",
            "\n",
            "Epoch #72: Average loss is 0.3132643825478024\n",
            "Time taken for epoch: 141.66186499595642s\n",
            "\n",
            "\n",
            "Epoch #73: Average loss is 0.3132640306154887\n",
            "Time taken for epoch: 141.3220715522766s\n",
            "\n",
            "\n",
            "Epoch #74: Average loss is 0.31326388398806254\n",
            "Time taken for epoch: 141.01415872573853s\n",
            "\n",
            "\n",
            "Epoch #75: Average loss is 0.31326361722416346\n",
            ".........................................................\n",
            "Epoch #75: Validation F1 is 0.9965428021730958\n",
            "Time taken for epoch: 161.36106371879578s\n",
            "\n",
            "\n",
            "Epoch #76: Average loss is 0.31326372199588354\n",
            "Time taken for epoch: 149.32903790473938s\n",
            "\n",
            "\n",
            "Epoch #77: Average loss is 0.3309371544255151\n",
            "Time taken for epoch: 149.53503274917603s\n",
            "\n",
            "\n",
            "Epoch #78: Average loss is 0.31334947983423866\n",
            "Time taken for epoch: 146.3265392780304s\n",
            "\n",
            "\n",
            "Epoch #79: Average loss is 0.31331015282207064\n",
            "Time taken for epoch: 149.6938714981079s\n",
            "\n",
            "\n",
            "Epoch #80: Average loss is 0.31333657874001397\n",
            ".........................................................\n",
            "Epoch #80: Validation F1 is 0.9968771545605711\n",
            "Time taken for epoch: 160.3814980983734s\n",
            "\n",
            "\n",
            "Epoch #81: Average loss is 0.3132882323529985\n",
            "Time taken for epoch: 136.98543977737427s\n",
            "\n",
            "\n",
            "Epoch #82: Average loss is 0.313714775774214\n",
            "Time taken for epoch: 139.3976411819458s\n",
            "\n",
            "\n",
            "Epoch #83: Average loss is 0.3133257610268063\n",
            "Time taken for epoch: 139.84400033950806s\n",
            "\n",
            "\n",
            "Epoch #84: Average loss is 0.3132689793904622\n",
            "Time taken for epoch: 139.03876614570618s\n",
            "\n",
            "\n",
            "Epoch #85: Average loss is 0.31362717946370444\n",
            ".........................................................\n",
            "Epoch #85: Validation F1 is 0.9942002644974917\n",
            "Time taken for epoch: 152.98271775245667s\n",
            "\n",
            "\n",
            "Epoch #86: Average loss is 0.3156093841128879\n",
            "Time taken for epoch: 138.8902792930603s\n",
            "\n",
            "\n",
            "Epoch #87: Average loss is 0.3132953425248464\n",
            "Time taken for epoch: 138.43951272964478s\n",
            "\n",
            "\n",
            "Epoch #88: Average loss is 0.31327625989913943\n",
            "Time taken for epoch: 134.9039704799652s\n",
            "\n",
            "\n",
            "Epoch #89: Average loss is 0.31326525780889725\n",
            "Time taken for epoch: 134.72359561920166s\n",
            "\n",
            "\n",
            "Epoch #90: Average loss is 0.31326455222235783\n",
            ".........................................................\n",
            "Epoch #90: Validation F1 is 0.996994782352182\n",
            "Time taken for epoch: 148.13290548324585s\n",
            "\n",
            "\n",
            "Epoch #91: Average loss is 0.31326420267422994\n",
            "Time taken for epoch: 135.8099546432495s\n",
            "\n",
            "\n",
            "Epoch #92: Average loss is 0.3132638500796424\n",
            "Time taken for epoch: 136.27841067314148s\n",
            "\n",
            "\n",
            "Epoch #93: Average loss is 0.3132636925909254\n",
            "Time taken for epoch: 136.03778767585754s\n",
            "\n",
            "\n",
            "Epoch #94: Average loss is 0.3132634539074368\n",
            "Time taken for epoch: 135.24790835380554s\n",
            "\n",
            "\n",
            "Epoch #95: Average loss is 0.3132632746961382\n",
            ".........................................................\n",
            "Epoch #95: Validation F1 is 0.9969396408686996\n",
            "Time taken for epoch: 148.92749691009521s\n",
            "\n",
            "\n",
            "Epoch #96: Average loss is 0.31326313336690265\n",
            "Time taken for epoch: 136.35945463180542s\n",
            "\n",
            "\n",
            "Epoch #97: Average loss is 0.3132629919052124\n",
            "Time taken for epoch: 136.11505842208862s\n",
            "\n",
            "\n",
            "Epoch #98: Average loss is 0.3132629120349884\n",
            "Time taken for epoch: 135.80791401863098s\n",
            "\n",
            "\n",
            "Epoch #99: Average loss is 0.313262775739034\n",
            "Time taken for epoch: 135.49393892288208s\n",
            "\n",
            "\n",
            "Epoch #100: Average loss is 0.3132626769277785\n",
            ".........................................................\n",
            "Epoch #100: Validation F1 is 0.9968771545605711\n",
            "Time taken for epoch: 148.65404510498047s\n",
            "\n",
            "Training completed in 14585.727561950684s\n"
          ],
          "name": "stdout"
        },
        {
          "output_type": "display_data",
          "data": {
            "image/png": "[encoded data removed]",
            "text/plain": [
              "<Figure size 432x288 with 1 Axes>"
            ]
          },
          "metadata": {
            "tags": []
          }
        }
      ]
    },
    {
      "cell_type": "code",
      "metadata": {
        "id": "Pd7tfdR8VuCM",
        "colab_type": "code",
        "colab": {}
      },
      "source": [
        "# from seq_seq_different import Seq2SeqDifferent\n",
        "\n",
        "# loss_fn = nn.CrossEntropyLoss()\n",
        "# optimizer = torch.optim.Adam(our.parameters(), lr=learning_rate)\n",
        "# out_dir = '/content/'\n",
        "\n",
        "# task_our = Seq2SeqDifferent(model=our, optimizer=optimizer, loss_fn=loss_fn, device=device)\n",
        "\n",
        "\n",
        "# task_our.model.load(\"model_epoch_100.pkl\")"
      ],
      "execution_count": 0,
      "outputs": []
    },
    {
      "cell_type": "markdown",
      "metadata": {
        "id": "4wYI327A6bmZ",
        "colab_type": "text"
      },
      "source": [
        "### Evaluate"
      ]
    },
    {
      "cell_type": "code",
      "metadata": {
        "id": "WT_r1NWGVuCQ",
        "colab_type": "code",
        "outputId": "18370999-0fc7-465d-a080-a783234c5a67",
        "colab": {
          "base_uri": "https://localhost:8080/",
          "height": 289
        }
      },
      "source": [
        "our_f1 = task_our.evaluate(test_loader, True)\n",
        "print(our_f1)"
      ],
      "execution_count": 18,
      "outputs": [
        {
          "output_type": "stream",
          "text": [
            "................................\n",
            "Confusion Matrix: \n",
            " [[75885   455]\n",
            " [    0 74660]]\n",
            "\n",
            "Classification Report: \n",
            "               precision    recall  f1-score   support\n",
            "\n",
            "           0       1.00      0.99      1.00     76340\n",
            "           1       0.99      1.00      1.00     74660\n",
            "\n",
            "    accuracy                           1.00    151000\n",
            "   macro avg       1.00      1.00      1.00    151000\n",
            "weighted avg       1.00      1.00      1.00    151000\n",
            "\n",
            "(0.9969621098314138, 0.3161322083324194)\n"
          ],
          "name": "stdout"
        }
      ]
    },
    {
      "cell_type": "code",
      "metadata": {
        "id": "3IZ6Qb5cVuCW",
        "colab_type": "code",
        "outputId": "d8ce09e0-4eab-486c-ad46-b3d2d14a134b",
        "colab": {
          "base_uri": "https://localhost:8080/",
          "height": 34
        }
      },
      "source": [
        "for x, y in test_loader:\n",
        "    x = x.to(device)\n",
        "    y = y.to(device)\n",
        "    break\n",
        "print(x.shape, y.shape)\n",
        "h = torch.zeros(2 * layers, x.shape[1], our.hidden_dim).to(device)\n",
        "c = torch.zeros(2 * layers, x.shape[1], our.hidden_dim).to(device)\n",
        "o = our(x, y, h, c, 0)"
      ],
      "execution_count": 19,
      "outputs": [
        {
          "output_type": "stream",
          "text": [
            "torch.Size([16, 32, 2]) torch.Size([151, 32, 2])\n"
          ],
          "name": "stdout"
        }
      ]
    },
    {
      "cell_type": "code",
      "metadata": {
        "id": "j04DyOaFVuCb",
        "colab_type": "code",
        "outputId": "05e8097e-8196-425c-997f-6c1d559676b8",
        "colab": {
          "base_uri": "https://localhost:8080/",
          "height": 109
        }
      },
      "source": [
        "z1 = torch.transpose(torch.argmax(y, 2), 1, 0).detach().cpu().long().numpy()\n",
        "z2 = torch.transpose(o[:,:,1], 1, 0).detach().cpu().numpy()\n",
        "z2 = np.round(z2).astype(int)\n",
        "# print(z1[0,:10])\n",
        "# print(z2[0,:10])\n",
        "# print(np.bitwise_xor(z1[0, :10], z2[0, :10]))\n",
        "\n",
        "from matplotlib.colors import ListedColormap\n",
        "# plt.matshow(np.bitwise_xor(z1, z2), cmap=cmap)\n",
        "cmap1 = ListedColormap(['w', 'blue'])\n",
        "img1 = plt.imshow(np.bitwise_xor(z1, z2), cmap=cmap1, alpha=0.5)\n",
        "cmap2 = ListedColormap(['w', 'orange'])\n",
        "img2 = plt.imshow(z1, cmap=cmap2, alpha=0.7)\n",
        "plt.xticks([])\n",
        "plt.yticks([])\n",
        "plt.savefig(os.path.join(out_dir, 'test.png'), transparent = True, \n",
        "            bbox_inches = 'tight', pad_inches = 0, dpi=300)\n",
        "plt.show()"
      ],
      "execution_count": 21,
      "outputs": [
        {
          "output_type": "display_data",
          "data": {
            "image/png": "[encoded data removed]",
            "text/plain": [
              "<Figure size 432x288 with 1 Axes>"
            ]
          },
          "metadata": {
            "tags": []
          }
        }
      ]
    },
    {
      "cell_type": "markdown",
      "metadata": {
        "id": "kPpvxbDZVuCg",
        "colab_type": "text"
      },
      "source": [
        "### Test with longer output"
      ]
    },
    {
      "cell_type": "code",
      "metadata": {
        "id": "i0QKLgalVuCh",
        "colab_type": "code",
        "outputId": "c13c8d74-4b30-43a6-9fa1-96fd1783d12a",
        "colab": {
          "base_uri": "https://localhost:8080/",
          "height": 289
        }
      },
      "source": [
        "our_f1 = task_our.evaluate(long_output_test_loader, True)\n",
        "print(our_f1)\n",
        "\n",
        "for x, y in long_output_test_loader:\n",
        "    x = x.to(device)\n",
        "    y = y.to(device)\n",
        "    break\n",
        "\n",
        "h = torch.zeros(2 * layers, x.shape[1], our.hidden_dim).to(device)\n",
        "c = torch.zeros(2 * layers, x.shape[1], our.hidden_dim).to(device)\n",
        "o = our(x, y, h, c, 0)"
      ],
      "execution_count": 22,
      "outputs": [
        {
          "output_type": "stream",
          "text": [
            "................................\n",
            "Confusion Matrix: \n",
            " [[149925    455]\n",
            " [     0 150620]]\n",
            "\n",
            "Classification Report: \n",
            "               precision    recall  f1-score   support\n",
            "\n",
            "           0       1.00      1.00      1.00    150380\n",
            "           1       1.00      1.00      1.00    150620\n",
            "\n",
            "    accuracy                           1.00    301000\n",
            "   macro avg       1.00      1.00      1.00    301000\n",
            "weighted avg       1.00      1.00      1.00    301000\n",
            "\n",
            "(0.9984918543562207, 0.3147188238799572)\n"
          ],
          "name": "stdout"
        }
      ]
    },
    {
      "cell_type": "code",
      "metadata": {
        "id": "3XrhRuLGVuCp",
        "colab_type": "code",
        "outputId": "79e79e8e-b98d-4d35-d521-91d19ff9a722",
        "colab": {
          "base_uri": "https://localhost:8080/",
          "height": 73
        }
      },
      "source": [
        "z1 = torch.transpose(torch.argmax(y,2), 1, 0).detach().cpu().long().numpy()\n",
        "z1[:,0] = 1\n",
        "z2 = torch.transpose(o[:,:,1], 1, 0).detach().cpu().numpy()\n",
        "z2 = np.round(z2).astype(int)\n",
        "# print(z1[0,:10])\n",
        "# print(z2[0,:10])\n",
        "# print(np.bitwise_xor(z1[0, :10], z2[0, :10]))\n",
        "\n",
        "from matplotlib.colors import ListedColormap\n",
        "# plt.matshow(np.bitwise_xor(z1, z2), cmap=cmap)\n",
        "cmap1 = ListedColormap(['w', 'blue'])\n",
        "img1 = plt.imshow(np.bitwise_xor(z1, z2), cmap=cmap1, alpha=0.7)\n",
        "cmap2 = ListedColormap(['w', 'orange'])\n",
        "img2 = plt.imshow(z1, cmap=cmap2, alpha=0.7)\n",
        "plt.xticks([])\n",
        "plt.yticks([])\n",
        "plt.savefig(os.path.join(out_dir, 'longer_output.png'), transparent = True, \n",
        "            bbox_inches = 'tight', pad_inches = 0, dpi=300)\n",
        "plt.show()"
      ],
      "execution_count": 23,
      "outputs": [
        {
          "output_type": "display_data",
          "data": {
            "image/png": "[encoded data removed]",
            "text/plain": [
              "<Figure size 432x288 with 1 Axes>"
            ]
          },
          "metadata": {
            "tags": []
          }
        }
      ]
    },
    {
      "cell_type": "markdown",
      "metadata": {
        "id": "Txk2b5piVuCw",
        "colab_type": "text"
      },
      "source": [
        "### Test with longer input"
      ]
    },
    {
      "cell_type": "code",
      "metadata": {
        "id": "YmAOaGUoVuCx",
        "colab_type": "code",
        "outputId": "7ade66f1-efa8-420d-bcd5-7011db9ef8ac",
        "colab": {
          "base_uri": "https://localhost:8080/",
          "height": 289
        }
      },
      "source": [
        "our_f1 = task_our.evaluate(long_input_test_loader, True)\n",
        "print(our_f1)\n",
        "\n",
        "for x, y in long_input_test_loader:\n",
        "    x = x.to(device)\n",
        "    y = y.to(device)\n",
        "    break\n",
        "\n",
        "h = torch.zeros(2 * layers, x.shape[1], our.hidden_dim).to(device)\n",
        "c = torch.zeros(2 * layers, x.shape[1], our.hidden_dim).to(device)\n",
        "o = our(x, y, h, c, 0)"
      ],
      "execution_count": 25,
      "outputs": [
        {
          "output_type": "stream",
          "text": [
            "................................\n",
            "Confusion Matrix: \n",
            " [[72316 55094]\n",
            " [47686 75904]]\n",
            "\n",
            "Classification Report: \n",
            "               precision    recall  f1-score   support\n",
            "\n",
            "           0       0.60      0.57      0.58    127410\n",
            "           1       0.58      0.61      0.60    123590\n",
            "\n",
            "    accuracy                           0.59    251000\n",
            "   macro avg       0.59      0.59      0.59    251000\n",
            "weighted avg       0.59      0.59      0.59    251000\n",
            "\n",
            "(0.5962889059971406, 0.7223953176289797)\n"
          ],
          "name": "stdout"
        }
      ]
    },
    {
      "cell_type": "code",
      "metadata": {
        "id": "S-tmlAiaVuC-",
        "colab_type": "code",
        "colab": {
          "base_uri": "https://localhost:8080/",
          "height": 81
        },
        "outputId": "a578c89e-f831-4bf9-8434-0cd93f413336"
      },
      "source": [
        "z1 = torch.transpose(torch.argmax(y,2), 1, 0).detach().cpu().long().numpy()\n",
        "z1[:,0] = 1\n",
        "z2 = torch.transpose(o[:,:,1], 1, 0).detach().cpu().numpy()\n",
        "z2 = np.round(z2).astype(int)\n",
        "# print(z1[0,:10])\n",
        "# print(z2[0,:10])\n",
        "# print(np.bitwise_xor(z1[0, :10], z2[0, :10]))\n",
        "\n",
        "from matplotlib.colors import ListedColormap\n",
        "# plt.matshow(np.bitwise_xor(z1, z2), cmap=cmap)\n",
        "cmap1 = ListedColormap(['w', 'blue'])\n",
        "img1 = plt.imshow(np.bitwise_xor(z1, z2), cmap=cmap1, alpha=0.7)\n",
        "cmap2 = ListedColormap(['w', 'orange'])\n",
        "img2 = plt.imshow(z1, cmap=cmap2, alpha=0.7)\n",
        "plt.xticks([])\n",
        "plt.yticks([])\n",
        "plt.savefig(os.path.join(out_dir, 'longer_input.png'), transparent = True, \n",
        "            bbox_inches = 'tight', pad_inches = 0, dpi=300)\n",
        "plt.show()"
      ],
      "execution_count": 26,
      "outputs": [
        {
          "output_type": "display_data",
          "data": {
            "image/png": "[encoded data removed]",
            "text/plain": [
              "<Figure size 432x288 with 1 Axes>"
            ]
          },
          "metadata": {
            "tags": []
          }
        }
      ]
    },
    {
      "cell_type": "markdown",
      "metadata": {
        "id": "6BLdqZYbVuDE",
        "colab_type": "text"
      },
      "source": [
        "## PyTorch implementation"
      ]
    },
    {
      "cell_type": "code",
      "metadata": {
        "id": "jGdc9oKCVuDG",
        "colab_type": "code",
        "colab": {}
      },
      "source": [
        "# class PyTorchBaseline(nn.Module):\n",
        "#     \"\"\" LSTM Class for Sequence Labelling (many-to-many-different)\n",
        "\n",
        "#     The class creates the LSTM architecture as specified by the parameters.\n",
        "#     A fully connected layer is added to reduce the last hidden state to output_dim.\n",
        "\n",
        "#     Parameters\n",
        "#     ==========\n",
        "#     vocab_len: int from imdb dataset\n",
        "#     embed_dim: dimensions of the embeddings\n",
        "#     hidden_dim: number of hidden nodes required\n",
        "#     output_dim: numer of output nodes required (1 for sentiment analysis)\n",
        "#     pretrained_vec: weights from imdb object\n",
        "#     layers: number of LSTM cells to be stacked for depth\n",
        "#     bidirectional: boolean\n",
        "#     layernorm: boolean\n",
        "\n",
        "#     \"\"\"\n",
        "#     def __init__(self, input_dim, hidden_dim, output_dim, layers=1,\n",
        "#                  bidirectional=False, layernorm=False):\n",
        "#         super().__init__()\n",
        "\n",
        "#         self.input_dim = input_dim\n",
        "#         self.output_dim = output_dim\n",
        "#         self.hidden_dim = hidden_dim\n",
        "#         self.layers = layers\n",
        "#         self.bidirectional = bidirectional\n",
        "#         self.layernorm = layernorm\n",
        "\n",
        "#         self.encoder = nn.LSTM(input_size=input_dim, hidden_size=hidden_dim, num_layers=layers,\n",
        "#                          bidirectional=bidirectional) #, layernorm=layernorm)\n",
        "#         if self.bidirectional:\n",
        "#             self.decoder = nn.LSTM(input_size=output_dim, hidden_size=2 * hidden_dim, num_layers=layers,\n",
        "#                                 bidirectional=False) #, layernorm=layernorm)\n",
        "#             self.fc = nn.Linear(2 * hidden_dim, output_dim)\n",
        "#         else:\n",
        "#             self.decoder = nn.LSTM(input_size=output_dim, hidden_size=hidden_dim, num_layers=layers,\n",
        "#                                 bidirectional=False) #, layernorm=layernorm)\n",
        "#             self.fc = nn.Linear(hidden_dim, output_dim)\n",
        "#         self.softmax = nn.Softmax(dim=2)\n",
        "\n",
        "#     def forward(self, x, target, hidden_state, cell_state, teacher_forcing=0.5):\n",
        "#         device = 'cpu'\n",
        "#         if x.is_cuda:\n",
        "#             device = 'cuda'\n",
        "#         # encoding\n",
        "#         _, (hidden_state, cell_state) = self.encoder(x, (hidden_state, cell_state))\n",
        "#         batch_size = x.shape[1]\n",
        "#         timesteps = target.shape[0]\n",
        "#         x = torch.zeros(1, batch_size, self.output_dim).to(device)\n",
        "#         output = torch.tensor([]).to(device)\n",
        "#         if self.bidirectional:\n",
        "#             # concatenating hidden states from two directions\n",
        "#             hidden_state = torch.cat((hidden_state[:self.layers,:,:], \n",
        "#                                       hidden_state[self.layers:,:,:]), dim=2)\n",
        "#             cell_state = torch.cat((cell_state[:self.layers,:,:], \n",
        "#                                     cell_state[self.layers:,:,:]), dim=2)\n",
        "#         # decoding\n",
        "#         for t in range(timesteps):           \n",
        "#             x, (hidden_state, cell_state) = self.decoder(x, (hidden_state, cell_state))\n",
        "#             x = self.softmax(self.fc(x))\n",
        "#             output = torch.cat((output, x), dim=0)\n",
        "#             choice = random.random() \n",
        "#             if choice < teacher_forcing:\n",
        "#                 x = target[t].float().to(device)\n",
        "#                 x = x.unsqueeze(0)\n",
        "#             else:\n",
        "#                 # converting x to a one-hot encoding\n",
        "#                 x = torch.zeros(x.shape).to(device).scatter_(2, torch.argmax(x, -1, keepdim=True), 1)\n",
        "#         return output\n",
        "\n",
        "#     def save(self, file_path='./model.pkl'):\n",
        "#         torch.save(self.state_dict(), file_path)\n",
        "\n",
        "#     def load(self, file_path):\n",
        "#         self.load_state_dict(torch.load(file_path))\n",
        "\n",
        "#     def count_parameters(self):\n",
        "#         tot_sum = sum(p.numel() for p in self.encoder.parameters() if p.requires_grad)\n",
        "#         tot_sum += sum(p.numel() for p in self.decoder.parameters() if p.requires_grad)\n",
        "#         tot_sum += sum(p.numel() for p in self.fc.parameters() if p.requires_grad)\n",
        "#         return tot_sum\n"
      ],
      "execution_count": 0,
      "outputs": []
    },
    {
      "cell_type": "code",
      "metadata": {
        "id": "byoiVYQgVuDM",
        "colab_type": "code",
        "colab": {}
      },
      "source": [
        "# pytorch = PyTorchBaseline(input_dim, hidden_dim, output_dim, layers, bidirectional).to(device)\n",
        "# print(pytorch.count_parameters())\n",
        "# loss_fn = nn.CrossEntropyLoss()\n",
        "# optimizer = torch.optim.Adam(pytorch.parameters(), lr=learning_rate)"
      ],
      "execution_count": 0,
      "outputs": []
    },
    {
      "cell_type": "code",
      "metadata": {
        "scrolled": true,
        "id": "dzB2lX4FVuDQ",
        "colab_type": "code",
        "colab": {}
      },
      "source": [
        "# train_x = train_x.to(device)\n",
        "# train_y = train_y.to(device)\n",
        "# test_x = test_x.to(device)\n",
        "# test_y = test_y.to(device)\n",
        "\n",
        "# pytorch = train(pytorch, train_x, train_y, test_x, test_y, epochs=30, loss_fn=loss_fn, optimizer=optimizer, teacher_forcing=0.5)"
      ],
      "execution_count": 0,
      "outputs": []
    },
    {
      "cell_type": "markdown",
      "metadata": {
        "id": "dh4Ui3WEZXzL",
        "colab_type": "text"
      },
      "source": [
        "# Transfomer"
      ]
    },
    {
      "cell_type": "code",
      "metadata": {
        "colab_type": "code",
        "outputId": "f79f98f3-426e-4c2a-de59-765e6f910566",
        "id": "i2z92eD3Zgmb",
        "colab": {
          "base_uri": "https://localhost:8080/",
          "height": 34
        }
      },
      "source": [
        "from seq_seq_different import TransformerSeq2SeqDifferent\n",
        "\n",
        "pad = torch.tensor([0,0]).float()\n",
        "# create model\n",
        "# 26k\n",
        "model = TransformerSeq2SeqDifferent(in_dim=2, out_dim=2, N=1, heads=6, model_dim=32, key_dim=4, value_dim=4, ff_dim=128,\n",
        "                                          batch_first=False)\n",
        "# 13k\n",
        "# model = TransformerSeq2SeqDifferent(in_dim=2, out_dim=2, N=1, heads=6, model_dim=16, key_dim=4, value_dim=4, ff_dim=128,\n",
        "#                                            batch_first=False)\n",
        "\n",
        "# 5k\n",
        "# model = TransformerSeq2SeqDifferent(in_dim=2, out_dim=2, N=1, heads=8, model_dim=8, key_dim=4, value_dim=4, ff_dim=64,\n",
        "#                                           batch_first=False)\n",
        "\n",
        "model = model.to(device)\n",
        "\n",
        "print(model.count_parameters())"
      ],
      "execution_count": 6,
      "outputs": [
        {
          "output_type": "stream",
          "text": [
            "26810\n"
          ],
          "name": "stdout"
        }
      ]
    },
    {
      "cell_type": "code",
      "metadata": {
        "colab_type": "code",
        "outputId": "21c481e3-45aa-4046-d6be-798ea3f6eb35",
        "id": "1lwjklLCZgmo",
        "colab": {
          "base_uri": "https://localhost:8080/",
          "height": 1000
        }
      },
      "source": [
        "from seq_seq_different import Seq2SeqDifferent\n",
        "from transformer import NoamOpt\n",
        "\n",
        "out_dir = 'results/Seq2SeqDifferent/transformer'\n",
        "\n",
        "loss_fn = nn.CrossEntropyLoss()\n",
        "optimizer = torch.optim.Adam(model.parameters(), lr=learning_rate)\n",
        "# optimizer = NoamOpt(model.model_dim, 1, 2000,\n",
        "#         torch.optim.Adam(model.parameters(), lr=0, betas=(0.9, 0.98), eps=1e-9))\n",
        "\n",
        "task_transformer = Seq2SeqDifferent(model=model, optimizer=optimizer, loss_fn=loss_fn, \n",
        "                                    start_token=START, device=device)\n",
        "\n",
        "transformer, transformer_stats = task_transformer.train(100, train_loader, valid_loader, freq=5,\n",
        "                                out_dir=out_dir, train_eval=False)"
      ],
      "execution_count": 7,
      "outputs": [
        {
          "output_type": "stream",
          "text": [
            "Beginning training model with 26810 parameters\n",
            "Files will be saved in: results/Seq2SeqDifferent/transformer\n",
            "\n",
            "\n",
            "Epoch #1: Average loss is 0.6690706872940063\n",
            "."
          ],
          "name": "stdout"
        },
        {
          "output_type": "stream",
          "text": [
            "/content/seq_seq_different.py:271: UserWarning: To copy construct from a tensor, it is recommended to use sourceTensor.clone().detach() or sourceTensor.clone().detach().requires_grad_(True), rather than torch.tensor(sourceTensor).\n",
            "  tgt = torch.tensor(start_token).view(1,1,-1).repeat(src.shape[0],1,1).float()\n"
          ],
          "name": "stderr"
        },
        {
          "output_type": "stream",
          "text": [
            "........................................................\n",
            "Epoch #1: Validation F1 is 0.584318010550113\n",
            "Time taken for epoch: 39.263996601104736s\n",
            "\n",
            "\n",
            "Epoch #2: Average loss is 0.6381647822591994\n",
            "Time taken for epoch: 4.991767406463623s\n",
            "\n",
            "\n",
            "Epoch #3: Average loss is 0.534433279964659\n",
            "Time taken for epoch: 5.045864820480347s\n",
            "\n",
            "\n",
            "Epoch #4: Average loss is 0.3753809200392829\n",
            "Time taken for epoch: 5.06983757019043s\n",
            "\n",
            "\n",
            "Epoch #5: Average loss is 0.2512982248597675\n",
            ".........................................................\n",
            "Epoch #5: Validation F1 is 0.9757770870337478\n",
            "Time taken for epoch: 38.58133888244629s\n",
            "\n",
            "\n",
            "Epoch #6: Average loss is 0.153319816854265\n",
            "Time taken for epoch: 4.993980884552002s\n",
            "\n",
            "\n",
            "Epoch #7: Average loss is 0.10769466436571545\n",
            "Time taken for epoch: 5.067109107971191s\n",
            "\n",
            "\n",
            "Epoch #8: Average loss is 0.08310011661714978\n",
            "Time taken for epoch: 5.021794557571411s\n",
            "\n",
            "\n",
            "Epoch #9: Average loss is 0.06799107294943597\n",
            "Time taken for epoch: 5.070223569869995s\n",
            "\n",
            "\n",
            "Epoch #10: Average loss is 0.0563639247086313\n",
            ".........................................................\n",
            "Epoch #10: Validation F1 is 1.0\n",
            "Time taken for epoch: 38.470232009887695s\n",
            "\n",
            "\n",
            "Epoch #11: Average loss is 0.04782116735974948\n",
            "Time taken for epoch: 5.04267430305481s\n",
            "\n",
            "\n",
            "Epoch #12: Average loss is 0.04052139729261398\n",
            "Time taken for epoch: 5.067993402481079s\n",
            "\n",
            "\n",
            "Epoch #13: Average loss is 0.034810376870963305\n",
            "Time taken for epoch: 5.060012102127075s\n",
            "\n",
            "\n",
            "Epoch #14: Average loss is 0.030451886273092695\n",
            "Time taken for epoch: 5.080514192581177s\n",
            "\n",
            "\n",
            "Epoch #15: Average loss is 0.026604875185423427\n",
            ".........................................................\n",
            "Epoch #15: Validation F1 is 1.0\n",
            "Time taken for epoch: 38.89267897605896s\n",
            "\n",
            "\n",
            "Epoch #16: Average loss is 0.023166865867873032\n",
            "Time taken for epoch: 5.1132214069366455s\n",
            "\n",
            "\n",
            "Epoch #17: Average loss is 0.020097343706422383\n",
            "Time taken for epoch: 5.099440336227417s\n",
            "\n",
            "\n",
            "Epoch #18: Average loss is 0.018127814266416763\n",
            "Time taken for epoch: 5.091334581375122s\n",
            "\n",
            "\n",
            "Epoch #19: Average loss is 0.01569374824149741\n",
            "Time taken for epoch: 5.070908308029175s\n",
            "\n",
            "\n",
            "Epoch #20: Average loss is 0.0144091278149022\n",
            ".........................................................\n",
            "Epoch #20: Validation F1 is 1.0\n",
            "Time taken for epoch: 38.64955449104309s\n",
            "\n",
            "\n",
            "Epoch #21: Average loss is 0.01286859127589398\n",
            "Time taken for epoch: 5.088740825653076s\n",
            "\n",
            "\n",
            "Epoch #22: Average loss is 0.012434596955362294\n",
            "Time taken for epoch: 5.111692428588867s\n",
            "\n",
            "\n",
            "Epoch #23: Average loss is 0.010684577224569189\n",
            "Time taken for epoch: 5.058403730392456s\n",
            "\n",
            "\n",
            "Epoch #24: Average loss is 0.010337408315390349\n",
            "Time taken for epoch: 5.074893474578857s\n",
            "\n",
            "\n",
            "Epoch #25: Average loss is 0.009497414018130965\n",
            ".........................................................\n",
            "Epoch #25: Validation F1 is 1.0\n",
            "Time taken for epoch: 38.6539101600647s\n",
            "\n",
            "\n",
            "Epoch #26: Average loss is 0.00915216182358563\n",
            "Time taken for epoch: 5.060943603515625s\n",
            "\n",
            "\n",
            "Epoch #27: Average loss is 0.00875065939500928\n",
            "Time taken for epoch: 5.113122224807739s\n",
            "\n",
            "\n",
            "Epoch #28: Average loss is 0.008174651910861334\n",
            "Time taken for epoch: 5.075056552886963s\n",
            "\n",
            "\n",
            "Epoch #29: Average loss is 0.007746819798938103\n",
            "Time taken for epoch: 5.101626634597778s\n",
            "\n",
            "\n",
            "Epoch #30: Average loss is 0.007561423509485192\n",
            ".........................................................\n",
            "Epoch #30: Validation F1 is 1.0\n",
            "Time taken for epoch: 38.69257688522339s\n",
            "\n",
            "\n",
            "Epoch #31: Average loss is 0.007057954590353701\n",
            "Time taken for epoch: 5.0696492195129395s\n",
            "\n",
            "\n",
            "Epoch #32: Average loss is 0.006817664350900385\n",
            "Time taken for epoch: 5.058790683746338s\n",
            "\n",
            "\n",
            "Epoch #33: Average loss is 0.0067523532505664565\n",
            "Time taken for epoch: 5.075627088546753s\n",
            "\n",
            "\n",
            "Epoch #34: Average loss is 0.005960596718101038\n",
            "Time taken for epoch: 5.042033910751343s\n",
            "\n",
            "\n",
            "Epoch #35: Average loss is 0.006056780822368131\n",
            ".........................................................\n",
            "Epoch #35: Validation F1 is 1.0\n",
            "Time taken for epoch: 38.520952463150024s\n",
            "\n",
            "\n",
            "Epoch #36: Average loss is 0.006003605247371727\n",
            "Time taken for epoch: 5.104491949081421s\n",
            "\n",
            "\n",
            "Epoch #37: Average loss is 0.005697552884618442\n",
            "Time taken for epoch: 5.019410610198975s\n",
            "\n",
            "\n",
            "Epoch #38: Average loss is 0.005465167842598425\n",
            "Time taken for epoch: 5.08840799331665s\n",
            "\n",
            "\n",
            "Epoch #39: Average loss is 0.005070357866999176\n",
            "Time taken for epoch: 5.100348472595215s\n",
            "\n",
            "\n",
            "Epoch #40: Average loss is 0.004980659563508298\n",
            ".........................................................\n",
            "Epoch #40: Validation F1 is 1.0\n",
            "Time taken for epoch: 38.36820101737976s\n",
            "\n",
            "\n",
            "Epoch #41: Average loss is 0.004739599221179055\n",
            "Time taken for epoch: 5.067293405532837s\n",
            "\n",
            "\n",
            "Epoch #42: Average loss is 0.004704877594485879\n",
            "Time taken for epoch: 5.070141553878784s\n",
            "\n",
            "\n",
            "Epoch #43: Average loss is 0.004230350313397745\n",
            "Time taken for epoch: 5.056298732757568s\n",
            "\n",
            "\n",
            "Epoch #44: Average loss is 0.004934014729741547\n",
            "Time taken for epoch: 5.089107513427734s\n",
            "\n",
            "\n",
            "Epoch #45: Average loss is 0.0042609118618485\n",
            ".........................................................\n",
            "Epoch #45: Validation F1 is 1.0\n",
            "Time taken for epoch: 38.22834610939026s\n",
            "\n",
            "\n",
            "Epoch #46: Average loss is 0.004162549907859001\n",
            "Time taken for epoch: 4.986892461776733s\n",
            "\n",
            "\n",
            "Epoch #47: Average loss is 0.004066605334066682\n",
            "Time taken for epoch: 4.948249578475952s\n",
            "\n",
            "\n",
            "Epoch #48: Average loss is 0.003793283139562441\n",
            "Time taken for epoch: 4.88190484046936s\n",
            "\n",
            "\n",
            "Epoch #49: Average loss is 0.0036410222057667043\n",
            "Time taken for epoch: 4.979943513870239s\n",
            "\n",
            "\n",
            "Epoch #50: Average loss is 0.0037344650735354258\n",
            ".........................................................\n",
            "Epoch #50: Validation F1 is 1.0\n",
            "Time taken for epoch: 38.16751742362976s\n",
            "\n",
            "\n",
            "Epoch #51: Average loss is 0.003606927375205689\n",
            "Time taken for epoch: 4.923023223876953s\n",
            "\n",
            "\n",
            "Epoch #52: Average loss is 0.0037203213375889593\n",
            "Time taken for epoch: 4.952667951583862s\n",
            "\n",
            "\n",
            "Epoch #53: Average loss is 0.003413504138071504\n",
            "Time taken for epoch: 4.914250135421753s\n",
            "\n",
            "\n",
            "Epoch #54: Average loss is 0.003421546254410512\n",
            "Time taken for epoch: 5.051651954650879s\n",
            "\n",
            "\n",
            "Epoch #55: Average loss is 0.0033283023541379308\n",
            ".........................................................\n",
            "Epoch #55: Validation F1 is 1.0\n",
            "Time taken for epoch: 38.483147859573364s\n",
            "\n",
            "\n",
            "Epoch #56: Average loss is 0.003139067772620668\n",
            "Time taken for epoch: 4.965306758880615s\n",
            "\n",
            "\n",
            "Epoch #57: Average loss is 0.002865482860296551\n",
            "Time taken for epoch: 5.0146520137786865s\n",
            "\n",
            "\n",
            "Epoch #58: Average loss is 0.0032675484058240223\n",
            "Time taken for epoch: 4.963512897491455s\n",
            "\n",
            "\n",
            "Epoch #59: Average loss is 0.002914951576644348\n",
            "Time taken for epoch: 4.994027853012085s\n",
            "\n",
            "\n",
            "Epoch #60: Average loss is 0.0028265939257107677\n",
            ".........................................................\n",
            "Epoch #60: Validation F1 is 1.0\n",
            "Time taken for epoch: 38.622392416000366s\n",
            "\n",
            "\n",
            "Epoch #61: Average loss is 0.003095996264213075\n",
            "Time taken for epoch: 5.07463812828064s\n",
            "\n",
            "\n",
            "Epoch #62: Average loss is 0.0026274486241810438\n",
            "Time taken for epoch: 5.072641134262085s\n",
            "\n",
            "\n",
            "Epoch #63: Average loss is 0.0028233860815978715\n",
            "Time taken for epoch: 5.121957778930664s\n",
            "\n",
            "\n",
            "Epoch #64: Average loss is 0.00278381018847641\n",
            "Time taken for epoch: 4.999129056930542s\n",
            "\n",
            "\n",
            "Epoch #65: Average loss is 0.002778818236094796\n",
            ".........................................................\n",
            "Epoch #65: Validation F1 is 1.0\n",
            "Time taken for epoch: 38.306087017059326s\n",
            "\n",
            "\n",
            "Epoch #66: Average loss is 0.0027386361940039527\n",
            "Time taken for epoch: 5.028855800628662s\n",
            "\n",
            "\n",
            "Epoch #67: Average loss is 0.002451645243499014\n",
            "Time taken for epoch: 4.942352533340454s\n",
            "\n",
            "\n",
            "Epoch #68: Average loss is 0.002703300193986959\n",
            "Time taken for epoch: 5.011170387268066s\n",
            "\n",
            "\n",
            "Epoch #69: Average loss is 0.0024475267812764895\n",
            "Time taken for epoch: 4.962048053741455s\n",
            "\n",
            "\n",
            "Epoch #70: Average loss is 0.0026297274211214646\n",
            ".........................................................\n",
            "Epoch #70: Validation F1 is 1.0\n",
            "Time taken for epoch: 38.314626932144165s\n",
            "\n",
            "\n",
            "Epoch #71: Average loss is 0.002329712565988302\n",
            "Time taken for epoch: 5.037704229354858s\n",
            "\n",
            "\n",
            "Epoch #72: Average loss is 0.0024275658120556424\n",
            "Time taken for epoch: 4.9833433628082275s\n",
            "\n",
            "\n",
            "Epoch #73: Average loss is 0.0024391121139180744\n",
            "Time taken for epoch: 5.025675535202026s\n",
            "\n",
            "\n",
            "Epoch #74: Average loss is 0.0024314376318620313\n",
            "Time taken for epoch: 4.997338056564331s\n",
            "\n",
            "\n",
            "Epoch #75: Average loss is 0.0023441718852457902\n",
            ".........................................................\n",
            "Epoch #75: Validation F1 is 1.0\n",
            "Time taken for epoch: 38.401190757751465s\n",
            "\n",
            "\n",
            "Epoch #76: Average loss is 0.0023826475366432636\n",
            "Time taken for epoch: 5.063699245452881s\n",
            "\n",
            "\n",
            "Epoch #77: Average loss is 0.0020413868052936678\n",
            "Time taken for epoch: 4.968832731246948s\n",
            "\n",
            "\n",
            "Epoch #78: Average loss is 0.0023236513362887004\n",
            "Time taken for epoch: 5.018799066543579s\n",
            "\n",
            "\n",
            "Epoch #79: Average loss is 0.0022503830504138024\n",
            "Time taken for epoch: 5.059170961380005s\n",
            "\n",
            "\n",
            "Epoch #80: Average loss is 0.0023865157099337213\n",
            ".........................................................\n",
            "Epoch #80: Validation F1 is 1.0\n",
            "Time taken for epoch: 38.634554862976074s\n",
            "\n",
            "\n",
            "Epoch #81: Average loss is 0.0021047827413874782\n",
            "Time taken for epoch: 5.021526575088501s\n",
            "\n",
            "\n",
            "Epoch #82: Average loss is 0.002131527279270813\n",
            "Time taken for epoch: 5.007803916931152s\n",
            "\n",
            "\n",
            "Epoch #83: Average loss is 0.002195902318150426\n",
            "Time taken for epoch: 4.95142936706543s\n",
            "\n",
            "\n",
            "Epoch #84: Average loss is 0.0020277363821191506\n",
            "Time taken for epoch: 5.018631219863892s\n",
            "\n",
            "\n",
            "Epoch #85: Average loss is 0.002087901784883191\n",
            ".........................................................\n",
            "Epoch #85: Validation F1 is 1.0\n",
            "Time taken for epoch: 38.54132652282715s\n",
            "\n",
            "\n",
            "Epoch #86: Average loss is 0.0021477533743665036\n",
            "Time taken for epoch: 5.083275318145752s\n",
            "\n",
            "\n",
            "Epoch #87: Average loss is 0.0018601002330736567\n",
            "Time taken for epoch: 5.136002063751221s\n",
            "\n",
            "\n",
            "Epoch #88: Average loss is 0.00191890146324618\n",
            "Time taken for epoch: 5.0308837890625s\n",
            "\n",
            "\n",
            "Epoch #89: Average loss is 0.002170153622023968\n",
            "Time taken for epoch: 5.1022326946258545s\n",
            "\n",
            "\n",
            "Epoch #90: Average loss is 0.002032329967736991\n",
            ".........................................................\n",
            "Epoch #90: Validation F1 is 1.0\n",
            "Time taken for epoch: 38.736836194992065s\n",
            "\n",
            "\n",
            "Epoch #91: Average loss is 0.0018103323525024786\n",
            "Time taken for epoch: 5.032789468765259s\n",
            "\n",
            "\n",
            "Epoch #92: Average loss is 0.002037894318604635\n",
            "Time taken for epoch: 4.979700565338135s\n",
            "\n",
            "\n",
            "Epoch #93: Average loss is 0.001933805307166444\n",
            "Time taken for epoch: 4.9779744148254395s\n",
            "\n",
            "\n",
            "Epoch #94: Average loss is 0.0018911502331805726\n",
            "Time taken for epoch: 4.948355674743652s\n",
            "\n",
            "\n",
            "Epoch #95: Average loss is 0.0017642242359256165\n",
            ".........................................................\n",
            "Epoch #95: Validation F1 is 1.0\n",
            "Time taken for epoch: 38.08714032173157s\n",
            "\n",
            "\n",
            "Epoch #96: Average loss is 0.0016346195269983986\n",
            "Time taken for epoch: 4.968677043914795s\n",
            "\n",
            "\n",
            "Epoch #97: Average loss is 0.0016030636693661411\n",
            "Time taken for epoch: 5.001644849777222s\n",
            "\n",
            "\n",
            "Epoch #98: Average loss is 0.0019210219477665508\n",
            "Time taken for epoch: 4.997338771820068s\n",
            "\n",
            "\n",
            "Epoch #99: Average loss is 0.001907128518861201\n",
            "Time taken for epoch: 4.925196409225464s\n",
            "\n",
            "\n",
            "Epoch #100: Average loss is 0.0019477776287951402\n",
            ".........................................................\n",
            "Epoch #100: Validation F1 is 1.0\n",
            "Time taken for epoch: 38.105971813201904s\n",
            "\n",
            "Training completed in 1207.331783771515s\n"
          ],
          "name": "stdout"
        },
        {
          "output_type": "display_data",
          "data": {
            "image/png": "[encoded data removed]",
            "text/plain": [
              "<Figure size 432x288 with 1 Axes>"
            ]
          },
          "metadata": {
            "tags": []
          }
        }
      ]
    },
    {
      "cell_type": "markdown",
      "metadata": {
        "id": "VUtwY3hr6Wi-",
        "colab_type": "text"
      },
      "source": [
        "### Evaluate"
      ]
    },
    {
      "cell_type": "code",
      "metadata": {
        "colab_type": "code",
        "outputId": "ea466e03-a0b4-4db7-d68c-90ba1c7ec149",
        "id": "gLdhXI9MZgm0",
        "colab": {
          "base_uri": "https://localhost:8080/",
          "height": 343
        }
      },
      "source": [
        "transformer_f1 = task_transformer.evaluate(test_loader, True)\n",
        "print(transformer_f1)"
      ],
      "execution_count": 8,
      "outputs": [
        {
          "output_type": "stream",
          "text": [
            "."
          ],
          "name": "stdout"
        },
        {
          "output_type": "stream",
          "text": [
            "/content/seq_seq_different.py:271: UserWarning: To copy construct from a tensor, it is recommended to use sourceTensor.clone().detach() or sourceTensor.clone().detach().requires_grad_(True), rather than torch.tensor(sourceTensor).\n",
            "  tgt = torch.tensor(start_token).view(1,1,-1).repeat(src.shape[0],1,1).float()\n"
          ],
          "name": "stderr"
        },
        {
          "output_type": "stream",
          "text": [
            "...............................\n",
            "Confusion Matrix: \n",
            " [[76340     0]\n",
            " [    0 74660]]\n",
            "\n",
            "Classification Report: \n",
            "               precision    recall  f1-score   support\n",
            "\n",
            "           0       1.00      1.00      1.00     76340\n",
            "           1       1.00      1.00      1.00     74660\n",
            "\n",
            "    accuracy                           1.00    151000\n",
            "   macro avg       1.00      1.00      1.00    151000\n",
            "weighted avg       1.00      1.00      1.00    151000\n",
            "\n",
            "(1.0, 0.31577759329229593)\n"
          ],
          "name": "stdout"
        }
      ]
    },
    {
      "cell_type": "code",
      "metadata": {
        "colab_type": "code",
        "outputId": "cc034317-f799-480d-b268-55f1a5676e43",
        "id": "RUPppxfrZgm5",
        "colab": {
          "base_uri": "https://localhost:8080/",
          "height": 88
        }
      },
      "source": [
        "for x, y in test_loader:\n",
        "    x = x.to(device)\n",
        "    y = y.to(device)\n",
        "    break\n",
        "print(x.shape, y.shape)\n",
        "o = model.generate(x, start_token=START, max_len=y.shape[0])"
      ],
      "execution_count": 9,
      "outputs": [
        {
          "output_type": "stream",
          "text": [
            "torch.Size([16, 32, 2]) torch.Size([151, 32, 2])\n"
          ],
          "name": "stdout"
        },
        {
          "output_type": "stream",
          "text": [
            "/content/seq_seq_different.py:271: UserWarning: To copy construct from a tensor, it is recommended to use sourceTensor.clone().detach() or sourceTensor.clone().detach().requires_grad_(True), rather than torch.tensor(sourceTensor).\n",
            "  tgt = torch.tensor(start_token).view(1,1,-1).repeat(src.shape[0],1,1).float()\n"
          ],
          "name": "stderr"
        }
      ]
    },
    {
      "cell_type": "code",
      "metadata": {
        "colab_type": "code",
        "outputId": "84640958-63f1-4d40-d1f7-73aba6c3b7cb",
        "id": "vvgb-lQ5Zgm9",
        "colab": {
          "base_uri": "https://localhost:8080/",
          "height": 109
        }
      },
      "source": [
        "z1 = torch.transpose(torch.argmax(y,2), 1, 0).detach().cpu().long().numpy()\n",
        "z1[:,0] = 1\n",
        "z2 = torch.transpose(o[:,:,1], 1, 0).detach().cpu().numpy()\n",
        "z2 = np.round(z2).astype(int)\n",
        "# print(z1[0,:10])\n",
        "# print(z2[0,:10])\n",
        "# print(np.bitwise_xor(z1[0, :10], z2[0, :10]))\n",
        "\n",
        "from matplotlib.colors import ListedColormap\n",
        "# plt.matshow(np.bitwise_xor(z1, z2), cmap=cmap)\n",
        "cmap1 = ListedColormap(['w', 'blue'])\n",
        "img1 = plt.imshow(np.bitwise_xor(z1, z2), cmap=cmap1, alpha=0.5)\n",
        "cmap2 = ListedColormap(['w', 'orange'])\n",
        "img2 = plt.imshow(z1, cmap=cmap2, alpha=0.7)\n",
        "plt.xticks([])\n",
        "plt.yticks([])\n",
        "plt.savefig(os.path.join(out_dir, 'test.png'), transparent = True, \n",
        "            bbox_inches = 'tight', pad_inches = 0, dpi=300)\n",
        "plt.show()"
      ],
      "execution_count": 10,
      "outputs": [
        {
          "output_type": "display_data",
          "data": {
            "image/png": "[encoded data removed]",
            "text/plain": [
              "<Figure size 432x288 with 1 Axes>"
            ]
          },
          "metadata": {
            "tags": []
          }
        }
      ]
    },
    {
      "cell_type": "markdown",
      "metadata": {
        "colab_type": "text",
        "id": "6zCHn-S2ZgnD"
      },
      "source": [
        "### Test with longer output"
      ]
    },
    {
      "cell_type": "code",
      "metadata": {
        "colab_type": "code",
        "outputId": "854e2550-f40a-4a94-c477-8ca769a0aad5",
        "id": "TIQsIBFaZgnE",
        "colab": {
          "base_uri": "https://localhost:8080/",
          "height": 343
        }
      },
      "source": [
        "transformer_f1 = task_transformer.evaluate(long_output_test_loader, True)\n",
        "print(transformer_f1)\n",
        "\n",
        "for x, y in long_output_test_loader:\n",
        "    x = x.to(device)\n",
        "    y = y.to(device)\n",
        "    break\n",
        "\n",
        "o = model.generate(x, start_token=START, max_len=y.shape[0])"
      ],
      "execution_count": 11,
      "outputs": [
        {
          "output_type": "stream",
          "text": [
            "."
          ],
          "name": "stdout"
        },
        {
          "output_type": "stream",
          "text": [
            "/content/seq_seq_different.py:271: UserWarning: To copy construct from a tensor, it is recommended to use sourceTensor.clone().detach() or sourceTensor.clone().detach().requires_grad_(True), rather than torch.tensor(sourceTensor).\n",
            "  tgt = torch.tensor(start_token).view(1,1,-1).repeat(src.shape[0],1,1).float()\n"
          ],
          "name": "stderr"
        },
        {
          "output_type": "stream",
          "text": [
            "...............................\n",
            "Confusion Matrix: \n",
            " [[118165  32215]\n",
            " [ 32988 117632]]\n",
            "\n",
            "Classification Report: \n",
            "               precision    recall  f1-score   support\n",
            "\n",
            "           0       0.78      0.79      0.78    150380\n",
            "           1       0.79      0.78      0.78    150620\n",
            "\n",
            "    accuracy                           0.78    301000\n",
            "   macro avg       0.78      0.78      0.78    301000\n",
            "weighted avg       0.78      0.78      0.78    301000\n",
            "\n",
            "(0.7829944719386821, 0.5316749941557646)\n"
          ],
          "name": "stdout"
        }
      ]
    },
    {
      "cell_type": "code",
      "metadata": {
        "colab_type": "code",
        "outputId": "0de3f9c2-8eb2-41cb-8d35-d6fc46f95430",
        "id": "jKLrjH3rZgnI",
        "colab": {
          "base_uri": "https://localhost:8080/",
          "height": 73
        }
      },
      "source": [
        "z1 = torch.transpose(torch.argmax(y[:],2), 1, 0).detach().cpu().long().numpy()\n",
        "z1[:,0] = 1\n",
        "z2 = torch.transpose(o[:,:,1], 1, 0).detach().cpu().numpy()\n",
        "z2 = np.round(z2).astype(int)\n",
        "# print(z1[0,:10])\n",
        "# print(z2[0,:10])\n",
        "# print(np.bitwise_xor(z1[0, :10], z2[0, :10]))\n",
        "\n",
        "from matplotlib.colors import ListedColormap\n",
        "# plt.matshow(np.bitwise_xor(z1, z2), cmap=cmap)\n",
        "cmap1 = ListedColormap(['w', 'blue'])\n",
        "img1 = plt.imshow(np.bitwise_xor(z1, z2), cmap=cmap1, alpha=0.7)\n",
        "cmap2 = ListedColormap(['w', 'orange'])\n",
        "img2 = plt.imshow(z1, cmap=cmap2, alpha=0.7)\n",
        "plt.xticks([])\n",
        "plt.yticks([])\n",
        "plt.savefig(os.path.join(out_dir, 'longer_output.png'), transparent = True, \n",
        "            bbox_inches = 'tight', pad_inches = 0, dpi=300)\n",
        "plt.show()"
      ],
      "execution_count": 12,
      "outputs": [
        {
          "output_type": "display_data",
          "data": {
            "image/png": "[encoded data removed]",
            "text/plain": [
              "<Figure size 432x288 with 1 Axes>"
            ]
          },
          "metadata": {
            "tags": []
          }
        }
      ]
    },
    {
      "cell_type": "markdown",
      "metadata": {
        "colab_type": "text",
        "id": "BT5n7vlOZgnP"
      },
      "source": [
        "### Test with longer input"
      ]
    },
    {
      "cell_type": "code",
      "metadata": {
        "colab_type": "code",
        "outputId": "39f8e366-e55f-4d14-e604-1b6c89d60341",
        "id": "tcJ-jLSmZgnQ",
        "colab": {
          "base_uri": "https://localhost:8080/",
          "height": 343
        }
      },
      "source": [
        "transformer_f1 = task_transformer.evaluate(long_input_test_loader, True)\n",
        "print(transformer_f1)\n",
        "\n",
        "for x, y in long_input_test_loader:\n",
        "    x = x.to(device)\n",
        "    y = y.to(device)\n",
        "    break\n",
        "\n",
        "o = model.generate(x, start_token=START, max_len=y.shape[0])"
      ],
      "execution_count": 13,
      "outputs": [
        {
          "output_type": "stream",
          "text": [
            "."
          ],
          "name": "stdout"
        },
        {
          "output_type": "stream",
          "text": [
            "/content/seq_seq_different.py:271: UserWarning: To copy construct from a tensor, it is recommended to use sourceTensor.clone().detach() or sourceTensor.clone().detach().requires_grad_(True), rather than torch.tensor(sourceTensor).\n",
            "  tgt = torch.tensor(start_token).view(1,1,-1).repeat(src.shape[0],1,1).float()\n"
          ],
          "name": "stderr"
        },
        {
          "output_type": "stream",
          "text": [
            "...............................\n",
            "Confusion Matrix: \n",
            " [[69625 57785]\n",
            " [49943 73647]]\n",
            "\n",
            "Classification Report: \n",
            "               precision    recall  f1-score   support\n",
            "\n",
            "           0       0.58      0.55      0.56    127410\n",
            "           1       0.56      0.60      0.58    123590\n",
            "\n",
            "    accuracy                           0.57    251000\n",
            "   macro avg       0.57      0.57      0.57    251000\n",
            "weighted avg       0.57      0.57      0.57    251000\n",
            "\n",
            "(0.5775736995239628, 0.7443468235433102)\n"
          ],
          "name": "stdout"
        }
      ]
    },
    {
      "cell_type": "code",
      "metadata": {
        "colab_type": "code",
        "outputId": "aca1835f-5518-481a-fbc6-a504ba386dcf",
        "id": "qfz9ZVbAZgnW",
        "colab": {
          "base_uri": "https://localhost:8080/",
          "height": 81
        }
      },
      "source": [
        "z1 = torch.transpose(torch.argmax(y[:],2), 1, 0).detach().cpu().long().numpy()\n",
        "z1[:,0] = 1\n",
        "z2 = torch.transpose(o[:,:,1], 1, 0).detach().cpu().numpy()\n",
        "z2 = np.round(z2).astype(int)\n",
        "# print(z1[0,:10])\n",
        "# print(z2[0,:10])\n",
        "# print(np.bitwise_xor(z1[0, :10], z2[0, :10]))\n",
        "\n",
        "from matplotlib.colors import ListedColormap\n",
        "# plt.matshow(np.bitwise_xor(z1, z2), cmap=cmap)\n",
        "cmap1 = ListedColormap(['w', 'blue'])\n",
        "img1 = plt.imshow(np.bitwise_xor(z1, z2), cmap=cmap1, alpha=0.7)\n",
        "cmap2 = ListedColormap(['w', 'orange'])\n",
        "img2 = plt.imshow(z1, cmap=cmap2, alpha=0.7)\n",
        "plt.xticks([])\n",
        "plt.yticks([])\n",
        "plt.savefig(os.path.join(out_dir, 'longer_input.png'), transparent = True, \n",
        "            bbox_inches = 'tight', pad_inches = 0, dpi=300)\n",
        "plt.show()"
      ],
      "execution_count": 14,
      "outputs": [
        {
          "output_type": "display_data",
          "data": {
            "image/png": "[encoded data removed]",
            "text/plain": [
              "<Figure size 432x288 with 1 Axes>"
            ]
          },
          "metadata": {
            "tags": []
          }
        }
      ]
    },
    {
      "cell_type": "code",
      "metadata": {
        "id": "0fiXHmZ190lN",
        "colab_type": "code",
        "colab": {}
      },
      "source": [
        "# !zip -r results-seq_different.zip results/Seq2SeqDifferent/\n",
        "\n",
        "# from google.colab import files\n",
        "# files.download('results-seq_different.zip')"
      ],
      "execution_count": 0,
      "outputs": []
    }
  ]
}