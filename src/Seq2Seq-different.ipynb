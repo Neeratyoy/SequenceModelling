{
 "cells": [
  {
   "cell_type": "code",
   "execution_count": 6,
   "metadata": {},
   "outputs": [],
   "source": [
    "import torch\n",
    "import torch.nn as nn\n",
    "import torch.optim as optim\n",
    "\n",
    "import os\n",
    "import json\n",
    "import time\n",
    "import random\n",
    "import numpy as np\n",
    "from matplotlib import pyplot as plt\n",
    "from sklearn.metrics import confusion_matrix, f1_score, classification_report\n",
    "from sklearn.metrics import accuracy_score, precision_score, recall_score\n",
    "\n",
    "from IPython.display import Image\n",
    "\n",
    "device = torch.device('cuda' if torch.cuda.is_available() else 'cpu')\n",
    "seed = 42"
   ]
  },
  {
   "cell_type": "markdown",
   "metadata": {},
   "source": [
    "## Modelling Parameters"
   ]
  },
  {
   "cell_type": "code",
   "execution_count": 7,
   "metadata": {},
   "outputs": [],
   "source": [
    "# Input dim\n",
    "input_dim = 2\n",
    "# Number of hidden nodes\n",
    "hidden_dim = 32\n",
    "# Number of output nodes\n",
    "output_dim = 2\n",
    "# Number of LSTMs cells to be stacked\n",
    "layers = 1\n",
    "# Boolean value for bidirectioanl or not\n",
    "bidirectional = True\n",
    "# Boolean value to use LayerNorm or not\n",
    "layernorm = True\n",
    "\n",
    "batch_size = 32\n",
    "# Percentage of training data\n",
    "learning_rate = 0.001\n",
    "\n",
    "device = \"cuda\""
   ]
  },
  {
   "cell_type": "markdown",
   "metadata": {},
   "source": [
    "## n-copy task dataset\n",
    "\n",
    "The entire dataset comprises of the binary representation of all numbers uptil a range defined. The binary sequence from left to right (most significant to least significant) is the input. The target is just the reverse sequence."
   ]
  },
  {
   "cell_type": "code",
   "execution_count": 58,
   "metadata": {},
   "outputs": [],
   "source": [
    "from seq_seq_different import create_ncopy_task\n",
    "\n",
    "train_loader, test_loader, valid_loader = create_ncopy_task(sequence_length=20, \n",
    "                                       n_copy=10,\n",
    "                                       batch_size=batch_size, \n",
    "                                       train_test_ratio=0.9, \n",
    "                                       train_valid_ratio=0.7)"
   ]
  },
  {
   "cell_type": "markdown",
   "metadata": {},
   "source": [
    "## Our implementation"
   ]
  },
  {
   "cell_type": "code",
   "execution_count": 9,
   "metadata": {},
   "outputs": [
    {
     "name": "stdout",
     "output_type": "stream",
     "text": [
      "Our implementation\n",
      "==================\n",
      "# of parameters: 27522\n",
      "encoder.model.0.weights                 : torch.Size([34, 128])\n",
      "encoder.model.0.bias                    : torch.Size([128])\n",
      "encoder.model.0.ln_gates.weight         : torch.Size([128])\n",
      "encoder.model.0.ln_gates.bias           : torch.Size([128])\n",
      "encoder.model.0.ln_candidate.weight     : torch.Size([32])\n",
      "encoder.model.0.ln_candidate.bias       : torch.Size([32])\n",
      "encoder.model_rev.0.weights             : torch.Size([34, 128])\n",
      "encoder.model_rev.0.bias                : torch.Size([128])\n",
      "encoder.model_rev.0.ln_gates.weight     : torch.Size([128])\n",
      "encoder.model_rev.0.ln_gates.bias       : torch.Size([128])\n",
      "encoder.model_rev.0.ln_candidate.weight : torch.Size([32])\n",
      "encoder.model_rev.0.ln_candidate.bias   : torch.Size([32])\n",
      "decoder.model.0.weights                 : torch.Size([66, 256])\n",
      "decoder.model.0.bias                    : torch.Size([256])\n",
      "decoder.model.0.ln_gates.weight         : torch.Size([256])\n",
      "decoder.model.0.ln_gates.bias           : torch.Size([256])\n",
      "decoder.model.0.ln_candidate.weight     : torch.Size([64])\n",
      "decoder.model.0.ln_candidate.bias       : torch.Size([64])\n",
      "fc.weight                               : torch.Size([2, 64])\n",
      "fc.bias                                 : torch.Size([2])\n"
     ]
    }
   ],
   "source": [
    "from seq_seq_different import LSTMSeq2SeqDifferent\n",
    "\n",
    "our = LSTMSeq2SeqDifferent(input_dim, hidden_dim, output_dim, bidirectional=bidirectional, \n",
    "                           layers=layers, layernorm=layernorm).to(device)\n",
    "\n",
    "print(\"Our implementation\\n{}\".format(\"=\" * len(\"Our implementation\")))\n",
    "print(\"# of parameters: {}\".format(our.count_parameters()))\n",
    "for name, param in our.named_parameters():\n",
    "    print(\"{:<40}: {}\".format(name, param.shape))"
   ]
  },
  {
   "cell_type": "code",
   "execution_count": 10,
   "metadata": {},
   "outputs": [
    {
     "name": "stdout",
     "output_type": "stream",
     "text": [
      "Beginning training model with 27522 parameters\n",
      "Files will be saved in: dump/Seq2SeqDifferent/\n",
      "\n",
      "Epoch #1: Batch 99/99 -- Loss = 0.6887339353561401; Time taken: 0.5920343399047852s\n",
      "Epoch #1: Average loss is 0.6926533176441385\n",
      "Epoch #1: Train F1 is 0.5757900511603578\n",
      "Epoch #1: Validation F1 is 0.5774969334274987\n",
      "Time taken for epoch: 93.02748584747314s\n",
      "\n",
      "Epoch #2: Batch 99/99 -- Loss = 0.6749377846717834; Time taken: 0.5859098434448242s\n",
      "Epoch #2: Average loss is 0.6819535921318363\n",
      "Time taken for epoch: 61.62702798843384s\n",
      "\n",
      "Epoch #3: Batch 99/99 -- Loss = 0.6899448037147522; Time taken: 0.6385793685913086s\n",
      "Epoch #3: Average loss is 0.6916364900993578\n",
      "Time taken for epoch: 63.64527201652527s\n",
      "\n",
      "Epoch #4: Batch 99/99 -- Loss = 0.6920671463012695; Time taken: 0.6090002059936523s\n",
      "Epoch #4: Average loss is 0.6929282154699768\n",
      "Time taken for epoch: 67.06329345703125s\n",
      "\n",
      "Epoch #5: Batch 99/99 -- Loss = 0.6915028095245361; Time taken: 0.7010986804962158s\n",
      "Epoch #5: Average loss is 0.6925590381477819\n",
      "Epoch #5: Train F1 is 0.05904413418347809\n",
      "Epoch #5: Validation F1 is 0.05850137974952239\n",
      "Time taken for epoch: 99.28179550170898s\n",
      "\n",
      "Epoch #6: Batch 99/99 -- Loss = 0.6906111240386963; Time taken: 0.603461503982544ss\n",
      "Epoch #6: Average loss is 0.6910428958709793\n",
      "Time taken for epoch: 67.93100762367249s\n",
      "\n",
      "Epoch #7: Batch 99/99 -- Loss = 0.6894291639328003; Time taken: 0.6325376033782959s\n",
      "Epoch #7: Average loss is 0.6772218864373486\n",
      "Time taken for epoch: 64.85824251174927s\n",
      "\n",
      "Epoch #8: Batch 99/99 -- Loss = 0.6359999179840088; Time taken: 0.5924386978149414s\n",
      "Epoch #8: Average loss is 0.6560678843295935\n",
      "Time taken for epoch: 64.02557182312012s\n",
      "\n",
      "Epoch #9: Batch 99/99 -- Loss = 0.6291264891624451; Time taken: 0.5879659652709961s\n",
      "Epoch #9: Average loss is 0.6318561506993843\n",
      "Time taken for epoch: 64.84886598587036s\n",
      "\n",
      "Epoch #10: Batch 99/99 -- Loss = 0.6183757185935974; Time taken: 0.7293088436126709s\n",
      "Epoch #10: Average loss is 0.6252148145377033\n",
      "Epoch #10: Train F1 is 0.5853978930517184\n",
      "Epoch #10: Validation F1 is 0.5889975421480274\n",
      "Time taken for epoch: 104.22392177581787s\n",
      "\n",
      "Epoch #11: Batch 99/99 -- Loss = 0.6137152314186096; Time taken: 0.634819746017456ss\n",
      "Epoch #11: Average loss is 0.6198160010154801\n",
      "Time taken for epoch: 65.35877180099487s\n",
      "\n",
      "Epoch #12: Batch 99/99 -- Loss = 0.6186621785163879; Time taken: 0.5989000797271729s\n",
      "Epoch #12: Average loss is 0.6239744936576997\n",
      "Time taken for epoch: 63.00933623313904s\n",
      "\n",
      "Epoch #13: Batch 99/99 -- Loss = 0.6059634685516357; Time taken: 0.639244556427002ss\n",
      "Epoch #13: Average loss is 0.6119308712506535\n",
      "Time taken for epoch: 65.87816882133484s\n",
      "\n",
      "Epoch #14: Batch 99/99 -- Loss = 0.6082011461257935; Time taken: 0.603640079498291ss\n",
      "Epoch #14: Average loss is 0.603044604412233\n",
      "Time taken for epoch: 62.77879238128662s\n",
      "\n",
      "Epoch #15: Batch 99/99 -- Loss = 0.5826176404953003; Time taken: 0.6554815769195557s\n",
      "Epoch #15: Average loss is 0.591645684507158\n",
      "Epoch #15: Train F1 is 0.6794933294867881\n",
      "Epoch #15: Validation F1 is 0.678595179045041\n",
      "Time taken for epoch: 95.25294399261475s\n",
      "\n",
      "Epoch #16: Batch 99/99 -- Loss = 0.5612165927886963; Time taken: 0.6346781253814697s\n",
      "Epoch #16: Average loss is 0.5667935146225823\n",
      "Time taken for epoch: 61.87960410118103s\n",
      "\n",
      "Epoch #17: Batch 99/99 -- Loss = 0.541353166103363; Time taken: 0.6330723762512207ss\n",
      "Epoch #17: Average loss is 0.549680739340156\n",
      "Time taken for epoch: 61.74976444244385s\n",
      "\n",
      "Epoch #18: Batch 99/99 -- Loss = 0.5497222542762756; Time taken: 0.6542084217071533s\n",
      "Epoch #18: Average loss is 0.5398596157931318\n",
      "Time taken for epoch: 66.23243451118469s\n",
      "\n",
      "Epoch #19: Batch 99/99 -- Loss = 0.5154753923416138; Time taken: 0.7043740749359131ss\n",
      "Epoch #19: Average loss is 0.5308444138729211\n",
      "Time taken for epoch: 67.28909039497375s\n",
      "\n",
      "Epoch #20: Batch 99/99 -- Loss = 0.5062097311019897; Time taken: 0.6123769283294678ss\n",
      "Epoch #20: Average loss is 0.5184475791574729\n",
      "Epoch #20: Train F1 is 0.7367705299748579\n",
      "Epoch #20: Validation F1 is 0.7354346488801539\n",
      "Time taken for epoch: 96.98593282699585s\n",
      "\n",
      "Epoch #21: Batch 99/99 -- Loss = 0.48370859026908875; Time taken: 0.5963740348815918s\n",
      "Epoch #21: Average loss is 0.5030667703561108\n",
      "Time taken for epoch: 70.03293180465698s\n",
      "\n",
      "Epoch #22: Batch 99/99 -- Loss = 0.4730411171913147; Time taken: 0.6723856925964355ss\n",
      "Epoch #22: Average loss is 0.479594013004592\n",
      "Time taken for epoch: 61.94397187232971s\n",
      "\n",
      "Epoch #23: Batch 99/99 -- Loss = 0.4420013725757599; Time taken: 0.6545822620391846ss\n",
      "Epoch #23: Average loss is 0.45588713523113367\n",
      "Time taken for epoch: 66.33701801300049s\n",
      "\n",
      "Epoch #24: Batch 99/99 -- Loss = 0.4209872782230377; Time taken: 0.6541237831115723ss\n",
      "Epoch #24: Average loss is 0.4307919033248015\n",
      "Time taken for epoch: 61.318779706954956s\n",
      "\n",
      "Epoch #25: Batch 99/99 -- Loss = 0.38139238953590393; Time taken: 0.6195545196533203s\n",
      "Epoch #25: Average loss is 0.40151602752280957\n",
      "Epoch #25: Train F1 is 0.813764485409416\n",
      "Epoch #25: Validation F1 is 0.8141021602410398\n",
      "Time taken for epoch: 90.40875625610352s\n",
      "\n",
      "Epoch #26: Batch 99/99 -- Loss = 0.3598460853099823; Time taken: 0.6420547962188721ss\n",
      "Epoch #26: Average loss is 0.3735590941376156\n",
      "Time taken for epoch: 62.962520599365234s\n",
      "\n",
      "Epoch #27: Batch 99/99 -- Loss = 0.3398810923099518; Time taken: 0.6273441314697266ss\n",
      "Epoch #27: Average loss is 0.34218827823195797\n",
      "Time taken for epoch: 60.58830499649048s\n",
      "\n",
      "Epoch #28: Batch 99/99 -- Loss = 0.3277209997177124; Time taken: 0.5881919860839844ss\n",
      "Epoch #28: Average loss is 0.3335076597603885\n",
      "Time taken for epoch: 60.294626235961914s\n",
      "\n",
      "Epoch #29: Batch 99/99 -- Loss = 0.32372167706489563; Time taken: 0.6001663208007812s\n",
      "Epoch #29: Average loss is 0.3268148284969908\n",
      "Time taken for epoch: 59.42877674102783s\n",
      "\n",
      "Epoch #30: Batch 99/99 -- Loss = 0.3153039216995239; Time taken: 0.6171646118164062ss\n",
      "Epoch #30: Average loss is 0.32100259174000134\n",
      "Epoch #30: Train F1 is 0.9840795035180242\n",
      "Epoch #30: Validation F1 is 0.9799458437491874\n",
      "Time taken for epoch: 92.45307087898254s\n",
      "\n",
      "Epoch #31: Batch 99/99 -- Loss = 0.31463173031806946; Time taken: 0.5839729309082031s\n",
      "Epoch #31: Average loss is 0.3178475752021327\n",
      "Time taken for epoch: 63.14717078208923s\n",
      "\n",
      "Epoch #32: Batch 99/99 -- Loss = 0.314472496509552; Time taken: 0.6056032180786133sss\n",
      "Epoch #32: Average loss is 0.31619482359500845\n",
      "Time taken for epoch: 59.1606171131134s\n",
      "\n",
      "Epoch #33: Batch 99/99 -- Loss = 0.31411805748939514; Time taken: 0.6018385887145996s\n",
      "Epoch #33: Average loss is 0.31592593740935276\n",
      "Time taken for epoch: 60.175174713134766s\n",
      "\n",
      "Epoch #34: Batch 99/99 -- Loss = 0.3140612244606018; Time taken: 0.597050666809082sss\n",
      "Epoch #34: Average loss is 0.3157285021411048\n",
      "Time taken for epoch: 61.66597509384155s\n",
      "\n",
      "Epoch #35: Batch 99/99 -- Loss = 0.31406667828559875; Time taken: 0.6795654296875s2ss\n",
      "Epoch #35: Average loss is 0.31563636510059084\n",
      "Epoch #35: Train F1 is 0.9928776385329661\n",
      "Epoch #35: Validation F1 is 0.9928045782962283\n",
      "Time taken for epoch: 98.65318274497986s\n",
      "\n",
      "Epoch #36: Batch 99/99 -- Loss = 0.31379222869873047; Time taken: 0.6840174198150635s\n",
      "Epoch #36: Average loss is 0.31556489973357227\n",
      "Time taken for epoch: 61.95667290687561s\n",
      "\n",
      "Epoch #37: Batch 99/99 -- Loss = 0.31380751729011536; Time taken: 0.6481509208679199s\n",
      "Epoch #37: Average loss is 0.314909129732787\n",
      "Time taken for epoch: 65.97226619720459s\n",
      "\n",
      "Epoch #38: Batch 99/99 -- Loss = 0.3138878643512726; Time taken: 0.6237108707427979ss\n",
      "Epoch #38: Average loss is 0.31460450303674947\n",
      "Time taken for epoch: 65.89433908462524s\n",
      "\n",
      "Epoch #39: Batch 99/99 -- Loss = 0.31651678681373596; Time taken: 0.6329851150512695s\n",
      "Epoch #39: Average loss is 0.35836478947389006\n",
      "Time taken for epoch: 60.015153884887695s\n",
      "\n",
      "Epoch #40: Batch 99/99 -- Loss = 0.314116895198822; Time taken: 0.592780590057373s9ss\n",
      "Epoch #40: Average loss is 0.3164520167341136\n",
      "Epoch #40: Train F1 is 0.9962506609667766\n",
      "Epoch #40: Validation F1 is 0.9959576501563762\n",
      "Time taken for epoch: 88.94319081306458s\n",
      "\n",
      "Epoch #41: Batch 99/99 -- Loss = 0.31379297375679016; Time taken: 0.5958614349365234s\n",
      "Epoch #41: Average loss is 0.3144040014406647\n",
      "Time taken for epoch: 59.44194746017456s\n",
      "\n",
      "Epoch #42: Batch 99/99 -- Loss = 0.3136540949344635; Time taken: 0.5957455635070801ss\n",
      "Epoch #42: Average loss is 0.3140418731202983\n",
      "Time taken for epoch: 62.39567685127258s\n",
      "\n"
     ]
    },
    {
     "name": "stdout",
     "output_type": "stream",
     "text": [
      "Epoch #43: Batch 99/99 -- Loss = 0.31360581517219543; Time taken: 0.6063954830169678s\n",
      "Epoch #43: Average loss is 0.3139691211358465\n",
      "Time taken for epoch: 59.5839467048645s\n",
      "\n",
      "Epoch #44: Batch 99/99 -- Loss = 0.313556969165802; Time taken: 0.5881121158599854s9s\n",
      "Epoch #44: Average loss is 0.31374749601489366\n",
      "Time taken for epoch: 58.76855802536011s\n",
      "\n",
      "Epoch #45: Batch 99/99 -- Loss = 0.31347888708114624; Time taken: 0.5897963047027588s\n",
      "Epoch #45: Average loss is 0.3135480179329111\n",
      "Epoch #45: Train F1 is 0.9998897885057397\n",
      "Epoch #45: Validation F1 is 0.9996616358234706\n",
      "Time taken for epoch: 88.01975202560425s\n",
      "\n",
      "Epoch #46: Batch 99/99 -- Loss = 0.3134467601776123; Time taken: 0.5915350914001465ss\n",
      "Epoch #46: Average loss is 0.31349956567841347\n",
      "Time taken for epoch: 59.395484924316406s\n",
      "\n",
      "Epoch #47: Batch 99/99 -- Loss = 0.3134211003780365; Time taken: 0.5983166694641113ss\n",
      "Epoch #47: Average loss is 0.313467185605656\n",
      "Time taken for epoch: 58.99990200996399s\n",
      "\n",
      "Epoch #48: Batch 99/99 -- Loss = 0.31340181827545166; Time taken: 0.5879020690917969s\n",
      "Epoch #48: Average loss is 0.3134427007400628\n",
      "Time taken for epoch: 58.60135817527771s\n",
      "\n",
      "Epoch #49: Batch 99/99 -- Loss = 0.3133865296840668; Time taken: 0.5778696537017822ss\n",
      "Epoch #49: Average loss is 0.3134228340303055\n",
      "Time taken for epoch: 58.50826120376587s\n",
      "\n",
      "Epoch #50: Batch 99/99 -- Loss = 0.31337401270866394; Time taken: 0.6023991107940674s\n",
      "Epoch #50: Average loss is 0.31340625249978266\n",
      "Epoch #50: Train F1 is 0.9999201341745867\n",
      "Epoch #50: Validation F1 is 1.0\n",
      "Time taken for epoch: 89.3603982925415s\n",
      "\n",
      "Training completed in 3482.466854572296s\n"
     ]
    },
    {
     "data": {
      "image/png": "[encoded data removed]",
      "text/plain": [
       "<Figure size 432x288 with 1 Axes>"
      ]
     },
     "metadata": {
      "needs_background": "light"
     },
     "output_type": "display_data"
    }
   ],
   "source": [
    "from seq_seq_different import Seq2SeqDifferent\n",
    "\n",
    "loss_fn = nn.CrossEntropyLoss()\n",
    "optimizer = torch.optim.Adam(our.parameters(), lr=learning_rate)\n",
    "\n",
    "task_our = Seq2SeqDifferent(model=our, optimizer=optimizer, loss_fn=loss_fn, device=device)\n",
    "\n",
    "our, our_stats = task_our.train(50, train_loader, valid_loader, teacher_forcing=0.5, freq=5,\n",
    "                                out_dir='dump/Seq2SeqDifferent/')"
   ]
  },
  {
   "cell_type": "code",
   "execution_count": null,
   "metadata": {},
   "outputs": [],
   "source": [
    "# our.load(\"dump/Seq2SeqDifferent/model_epoch_45.pkl\")"
   ]
  },
  {
   "cell_type": "code",
   "execution_count": 14,
   "metadata": {},
   "outputs": [
    {
     "name": "stdout",
     "output_type": "stream",
     "text": [
      "Confusion Matrix: \n",
      " [[50220     0]\n",
      " [    0 49780]]\n",
      "\n",
      "Classification Report: \n",
      "               precision    recall  f1-score   support\n",
      "\n",
      "           0       1.00      1.00      1.00     50220\n",
      "           1       1.00      1.00      1.00     49780\n",
      "\n",
      "   micro avg       1.00      1.00      1.00    100000\n",
      "   macro avg       1.00      1.00      1.00    100000\n",
      "weighted avg       1.00      1.00      1.00    100000\n",
      "\n",
      "(1.0, 0.3134151063859463)\n"
     ]
    }
   ],
   "source": [
    "our_f1 = task_our.evaluate(test_loader, True)\n",
    "print(our_f1)"
   ]
  },
  {
   "cell_type": "code",
   "execution_count": 15,
   "metadata": {},
   "outputs": [
    {
     "name": "stdout",
     "output_type": "stream",
     "text": [
      "torch.Size([20, 32, 2]) torch.Size([200, 32, 2])\n"
     ]
    }
   ],
   "source": [
    "for x, y in test_loader:\n",
    "    x = x.to(device)\n",
    "    y = y.to(device)\n",
    "    break\n",
    "print(x.shape, y.shape)\n",
    "h = torch.zeros(2 * layers, x.shape[1], our.hidden_dim).to(device)\n",
    "c = torch.zeros(2 * layers, x.shape[1], our.hidden_dim).to(device)\n",
    "o = our(x, y, h, c)"
   ]
  },
  {
   "cell_type": "code",
   "execution_count": 18,
   "metadata": {},
   "outputs": [
    {
     "data": {
      "image/png": "[encoded data removed]",
      "text/plain": [
       "<Figure size 1152x184.32 with 2 Axes>"
      ]
     },
     "metadata": {
      "needs_background": "light"
     },
     "output_type": "display_data"
    },
    {
     "data": {
      "image/png": "[encoded data removed]",
      "text/plain": [
       "<Figure size 1152x184.32 with 2 Axes>"
      ]
     },
     "metadata": {
      "needs_background": "light"
     },
     "output_type": "display_data"
    }
   ],
   "source": [
    "plt.matshow(torch.transpose(torch.argmax(y,2), 1, 0).detach().cpu().numpy())\n",
    "plt.colorbar();\n",
    "plt.matshow(torch.transpose(o[:,:,1], 1, 0).detach().cpu().numpy())\n",
    "plt.colorbar();\n",
    "\n",
    "# plt.matshow(np.bitwise_xor(torch.transpose(torch.argmax(y[:60],2), 1, 0).detach().cpu().long().numpy(), torch.transpose(o[:60,:,1], 1, 0).detach().cpu().long().numpy()))"
   ]
  },
  {
   "cell_type": "markdown",
   "metadata": {},
   "source": [
    "### Test with longer output"
   ]
  },
  {
   "cell_type": "code",
   "execution_count": 59,
   "metadata": {},
   "outputs": [
    {
     "name": "stdout",
     "output_type": "stream",
     "text": [
      "Confusion Matrix: \n",
      " [[100258     22]\n",
      " [    76  99644]]\n",
      "\n",
      "Classification Report: \n",
      "               precision    recall  f1-score   support\n",
      "\n",
      "           0       1.00      1.00      1.00    100280\n",
      "           1       1.00      1.00      1.00     99720\n",
      "\n",
      "   micro avg       1.00      1.00      1.00    200000\n",
      "   macro avg       1.00      1.00      1.00    200000\n",
      "weighted avg       1.00      1.00      1.00    200000\n",
      "\n",
      "(0.9995084910675774, 0.31385323964059353)\n"
     ]
    }
   ],
   "source": [
    "long_output_train_loader, \\\n",
    "long_output_test_loader, \\\n",
    "long_output_val_loader = create_ncopy_task(sequence_length=20, \n",
    "                                           n_copy=20,\n",
    "                                           batch_size=batch_size, \n",
    "                                           train_test_ratio=0.9, \n",
    "                                           train_valid_ratio=0.8)\n",
    "\n",
    "\n",
    "our_f1 = task_our.evaluate(long_output_test_loader, True)\n",
    "print(our_f1)\n",
    "\n",
    "for x, y in long_output_test_loader:\n",
    "    x = x.to(device)\n",
    "    y = y.to(device)\n",
    "    break\n",
    "\n",
    "h = torch.zeros(2 * layers, x.shape[1], our.hidden_dim).to(device)\n",
    "c = torch.zeros(2 * layers, x.shape[1], our.hidden_dim).to(device)\n",
    "o = our(x, y, h, c)"
   ]
  },
  {
   "cell_type": "code",
   "execution_count": 60,
   "metadata": {},
   "outputs": [
    {
     "data": {
      "image/png": "[encoded data removed]",
      "text/plain": [
       "<Figure size 450x288 with 2 Axes>"
      ]
     },
     "metadata": {
      "needs_background": "light"
     },
     "output_type": "display_data"
    },
    {
     "data": {
      "image/png": "[encoded data removed]",
      "text/plain": [
       "<Figure size 450x288 with 2 Axes>"
      ]
     },
     "metadata": {
      "needs_background": "light"
     },
     "output_type": "display_data"
    }
   ],
   "source": [
    "plt.matshow(torch.transpose(torch.argmax(y[-50:],2), 1, 0).detach().cpu().numpy())\n",
    "plt.colorbar();\n",
    "plt.matshow(torch.transpose(o[-50:,:,1], 1, 0).detach().cpu().numpy())\n",
    "plt.colorbar();"
   ]
  },
  {
   "cell_type": "markdown",
   "metadata": {},
   "source": [
    "### Test with longer input"
   ]
  },
  {
   "cell_type": "code",
   "execution_count": 61,
   "metadata": {},
   "outputs": [
    {
     "name": "stdout",
     "output_type": "stream",
     "text": [
      "Confusion Matrix: \n",
      " [[35752 26858]\n",
      " [26444 35946]]\n",
      "\n",
      "Classification Report: \n",
      "               precision    recall  f1-score   support\n",
      "\n",
      "           0       0.57      0.57      0.57     62610\n",
      "           1       0.57      0.58      0.57     62390\n",
      "\n",
      "   micro avg       0.57      0.57      0.57    125000\n",
      "   macro avg       0.57      0.57      0.57    125000\n",
      "weighted avg       0.57      0.57      0.57    125000\n",
      "\n",
      "(0.5742447721136795, 0.7386811599135399)\n"
     ]
    }
   ],
   "source": [
    "long_input_train_loader, \\\n",
    "long_input_test_loader, \\\n",
    "long_input_val_loader = create_ncopy_task(sequence_length=25, \n",
    "                                           n_copy=10,\n",
    "                                           batch_size=batch_size, \n",
    "                                           train_test_ratio=0.9, \n",
    "                                           train_valid_ratio=0.8)\n",
    "\n",
    "\n",
    "our_f1 = task_our.evaluate(long_input_test_loader, True)\n",
    "print(our_f1)\n",
    "\n",
    "for x, y in long_input_test_loader:\n",
    "    x = x.to(device)\n",
    "    y = y.to(device)\n",
    "    break\n",
    "\n",
    "h = torch.zeros(2 * layers, x.shape[1], our.hidden_dim).to(device)\n",
    "c = torch.zeros(2 * layers, x.shape[1], our.hidden_dim).to(device)\n",
    "o = our(x, y, h, c)"
   ]
  },
  {
   "cell_type": "code",
   "execution_count": 62,
   "metadata": {},
   "outputs": [
    {
     "data": {
      "image/png": "[encoded data removed]",
      "text/plain": [
       "<Figure size 450x288 with 2 Axes>"
      ]
     },
     "metadata": {
      "needs_background": "light"
     },
     "output_type": "display_data"
    },
    {
     "data": {
      "image/png": "[encoded data removed]",
      "text/plain": [
       "<Figure size 450x288 with 2 Axes>"
      ]
     },
     "metadata": {
      "needs_background": "light"
     },
     "output_type": "display_data"
    }
   ],
   "source": [
    "plt.matshow(torch.transpose(torch.argmax(y[-50:],2), 1, 0).detach().cpu().numpy())\n",
    "plt.colorbar();\n",
    "plt.matshow(torch.transpose(o[-50:,:,1], 1, 0).detach().cpu().numpy())\n",
    "plt.colorbar();"
   ]
  },
  {
   "cell_type": "markdown",
   "metadata": {},
   "source": [
    "## PyTorch implementation"
   ]
  },
  {
   "cell_type": "code",
   "execution_count": null,
   "metadata": {},
   "outputs": [],
   "source": [
    "# class PyTorchBaseline(nn.Module):\n",
    "#     \"\"\" LSTM Class for Sequence Labelling (many-to-many-different)\n",
    "\n",
    "#     The class creates the LSTM architecture as specified by the parameters.\n",
    "#     A fully connected layer is added to reduce the last hidden state to output_dim.\n",
    "\n",
    "#     Parameters\n",
    "#     ==========\n",
    "#     vocab_len: int from imdb dataset\n",
    "#     embed_dim: dimensions of the embeddings\n",
    "#     hidden_dim: number of hidden nodes required\n",
    "#     output_dim: numer of output nodes required (1 for sentiment analysis)\n",
    "#     pretrained_vec: weights from imdb object\n",
    "#     layers: number of LSTM cells to be stacked for depth\n",
    "#     bidirectional: boolean\n",
    "#     layernorm: boolean\n",
    "\n",
    "#     \"\"\"\n",
    "#     def __init__(self, input_dim, hidden_dim, output_dim, layers=1,\n",
    "#                  bidirectional=False, layernorm=False):\n",
    "#         super().__init__()\n",
    "\n",
    "#         self.input_dim = input_dim\n",
    "#         self.output_dim = output_dim\n",
    "#         self.hidden_dim = hidden_dim\n",
    "#         self.layers = layers\n",
    "#         self.bidirectional = bidirectional\n",
    "#         self.layernorm = layernorm\n",
    "\n",
    "#         self.encoder = nn.LSTM(input_size=input_dim, hidden_size=hidden_dim, num_layers=layers,\n",
    "#                          bidirectional=bidirectional) #, layernorm=layernorm)\n",
    "#         if self.bidirectional:\n",
    "#             self.decoder = nn.LSTM(input_size=output_dim, hidden_size=2 * hidden_dim, num_layers=layers,\n",
    "#                                 bidirectional=False) #, layernorm=layernorm)\n",
    "#             self.fc = nn.Linear(2 * hidden_dim, output_dim)\n",
    "#         else:\n",
    "#             self.decoder = nn.LSTM(input_size=output_dim, hidden_size=hidden_dim, num_layers=layers,\n",
    "#                                 bidirectional=False) #, layernorm=layernorm)\n",
    "#             self.fc = nn.Linear(hidden_dim, output_dim)\n",
    "#         self.softmax = nn.Softmax(dim=2)\n",
    "\n",
    "#     def forward(self, x, target, hidden_state, cell_state, teacher_forcing=0.5):\n",
    "#         device = 'cpu'\n",
    "#         if x.is_cuda:\n",
    "#             device = 'cuda'\n",
    "#         # encoding\n",
    "#         _, (hidden_state, cell_state) = self.encoder(x, (hidden_state, cell_state))\n",
    "#         batch_size = x.shape[1]\n",
    "#         timesteps = target.shape[0]\n",
    "#         x = torch.zeros(1, batch_size, self.output_dim).to(device)\n",
    "#         output = torch.tensor([]).to(device)\n",
    "#         if self.bidirectional:\n",
    "#             # concatenating hidden states from two directions\n",
    "#             hidden_state = torch.cat((hidden_state[:self.layers,:,:], \n",
    "#                                       hidden_state[self.layers:,:,:]), dim=2)\n",
    "#             cell_state = torch.cat((cell_state[:self.layers,:,:], \n",
    "#                                     cell_state[self.layers:,:,:]), dim=2)\n",
    "#         # decoding\n",
    "#         for t in range(timesteps):           \n",
    "#             x, (hidden_state, cell_state) = self.decoder(x, (hidden_state, cell_state))\n",
    "#             x = self.softmax(self.fc(x))\n",
    "#             output = torch.cat((output, x), dim=0)\n",
    "#             choice = random.random() \n",
    "#             if choice < teacher_forcing:\n",
    "#                 x = target[t].float().to(device)\n",
    "#                 x = x.unsqueeze(0)\n",
    "#             else:\n",
    "#                 # converting x to a one-hot encoding\n",
    "#                 x = torch.zeros(x.shape).to(device).scatter_(2, torch.argmax(x, -1, keepdim=True), 1)\n",
    "#         return output\n",
    "\n",
    "#     def save(self, file_path='./model.pkl'):\n",
    "#         torch.save(self.state_dict(), file_path)\n",
    "\n",
    "#     def load(self, file_path):\n",
    "#         self.load_state_dict(torch.load(file_path))\n",
    "\n",
    "#     def count_parameters(self):\n",
    "#         tot_sum = sum(p.numel() for p in self.encoder.parameters() if p.requires_grad)\n",
    "#         tot_sum += sum(p.numel() for p in self.decoder.parameters() if p.requires_grad)\n",
    "#         tot_sum += sum(p.numel() for p in self.fc.parameters() if p.requires_grad)\n",
    "#         return tot_sum\n"
   ]
  },
  {
   "cell_type": "code",
   "execution_count": null,
   "metadata": {},
   "outputs": [],
   "source": [
    "# pytorch = PyTorchBaseline(input_dim, hidden_dim, output_dim, layers, bidirectional).to(device)\n",
    "# print(pytorch.count_parameters())\n",
    "# loss_fn = nn.CrossEntropyLoss()\n",
    "# optimizer = torch.optim.Adam(pytorch.parameters(), lr=learning_rate)"
   ]
  },
  {
   "cell_type": "code",
   "execution_count": null,
   "metadata": {
    "scrolled": true
   },
   "outputs": [],
   "source": [
    "# train_x = train_x.to(device)\n",
    "# train_y = train_y.to(device)\n",
    "# test_x = test_x.to(device)\n",
    "# test_y = test_y.to(device)\n",
    "\n",
    "# pytorch = train(pytorch, train_x, train_y, test_x, test_y, epochs=30, loss_fn=loss_fn, optimizer=optimizer, teacher_forcing=0.5)"
   ]
  }
 ],
 "metadata": {
  "kernelspec": {
   "display_name": "Python 3",
   "language": "python",
   "name": "python3"
  },
  "language_info": {
   "codemirror_mode": {
    "name": "ipython",
    "version": 3
   },
   "file_extension": ".py",
   "mimetype": "text/x-python",
   "name": "python",
   "nbconvert_exporter": "python",
   "pygments_lexer": "ipython3",
   "version": "3.6.8"
  }
 },
 "nbformat": 4,
 "nbformat_minor": 2
}
