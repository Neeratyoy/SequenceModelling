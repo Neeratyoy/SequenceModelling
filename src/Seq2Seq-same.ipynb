{
 "cells": [
  {
   "cell_type": "code",
   "execution_count": 1,
   "metadata": {},
   "outputs": [],
   "source": [
    "import torch\n",
    "import torch.nn as nn\n",
    "import torch.optim as optim\n",
    "from torch.utils.data import DataLoader, TensorDataset, random_split\n",
    "\n",
    "import os\n",
    "import re\n",
    "import json\n",
    "import time\n",
    "import random\n",
    "import numpy as np\n",
    "from collections import OrderedDict\n",
    "from matplotlib import pyplot as plt\n",
    "from sklearn.metrics import confusion_matrix, f1_score, classification_report\n",
    "from sklearn.metrics import accuracy_score, precision_score, recall_score\n",
    "from sklearn.preprocessing import OneHotEncoder\n",
    "\n",
    "from IPython.display import Image\n",
    "\n",
    "device = torch.device('cuda' if torch.cuda.is_available() else 'cpu')\n",
    "seed = 42"
   ]
  },
  {
   "cell_type": "markdown",
   "metadata": {},
   "source": [
    "## Common parameters"
   ]
  },
  {
   "cell_type": "code",
   "execution_count": 14,
   "metadata": {},
   "outputs": [],
   "source": [
    "batch_size = 8\n",
    "# Percentage of training data\n",
    "learning_rate = 0.001\n",
    "\n",
    "device = \"cuda\""
   ]
  },
  {
   "cell_type": "markdown",
   "metadata": {},
   "source": [
    "# Loading bAbi"
   ]
  },
  {
   "cell_type": "code",
   "execution_count": 15,
   "metadata": {},
   "outputs": [
    {
     "name": "stdout",
     "output_type": "stream",
     "text": [
      "Training data size:    8000\n",
      "Validation data size:  2000\n",
      "Test data size:        1000\n"
     ]
    }
   ],
   "source": [
    "from babi import babiDataset\n",
    "babi = babiDataset()\n",
    "babi.load(verbose=True)\n",
    "train_loader, valid_loader, test_loader = babi.create_data_loader(batch_size)"
   ]
  },
  {
   "cell_type": "markdown",
   "metadata": {},
   "source": [
    "# LSTM"
   ]
  },
  {
   "cell_type": "code",
   "execution_count": 16,
   "metadata": {},
   "outputs": [],
   "source": [
    "# Input dim\n",
    "input_dim = babi.max_vocab_size\n",
    "# Number of hidden nodes\n",
    "hidden_dim = 256\n",
    "# Number of output nodes\n",
    "output_dim = babi.max_vocab_size\n",
    "# Number of LSTMs cells to be stacked\n",
    "layers = 1\n",
    "# Boolean value for bidirectioanl or not\n",
    "bidirectional = True\n",
    "# Boolean value to use LayerNorm or not\n",
    "layernorm = False"
   ]
  },
  {
   "cell_type": "markdown",
   "metadata": {},
   "source": [
    "### Our implementation"
   ]
  },
  {
   "cell_type": "code",
   "execution_count": 46,
   "metadata": {},
   "outputs": [
    {
     "name": "stdout",
     "output_type": "stream",
     "text": [
      "Our implementation\n",
      "==================\n",
      "# of parameters: 582678\n",
      "lstm.model.0.weights     : torch.Size([278, 1024])\n",
      "lstm.model.0.bias        : torch.Size([1024])\n",
      "lstm.model_rev.0.weights : torch.Size([278, 1024])\n",
      "lstm.model_rev.0.bias    : torch.Size([1024])\n",
      "fc.weight                : torch.Size([22, 512])\n",
      "fc.bias                  : torch.Size([22])\n"
     ]
    }
   ],
   "source": [
    "from seq_seq_same import LSTMSeq2SeqSame\n",
    "\n",
    "our = LSTMSeq2SeqSame(input_dim=input_dim, hidden_dim=hidden_dim, output_dim=output_dim, \n",
    "                        layers=layers, bidirectional=bidirectional).to(device)\n",
    "\n",
    "print(\"Our implementation\\n{}\".format(\"=\" * len(\"Our implementation\")))\n",
    "print(\"# of parameters: {}\".format(our.count_parameters()))\n",
    "for name, param in our.named_parameters():\n",
    "    print(\"{:<25}: {}\".format(name, param.shape))"
   ]
  },
  {
   "cell_type": "code",
   "execution_count": 47,
   "metadata": {},
   "outputs": [],
   "source": [
    "# from seq_seq_same import Seq2SeqSame\n",
    "\n",
    "loss_fn = nn.CrossEntropyLoss()\n",
    "optimizer_our = torch.optim.Adam(our.parameters(), lr=learning_rate)\n",
    "\n",
    "task_our = Seq2SeqSame(our, optimizer_our, loss_fn, device)"
   ]
  },
  {
   "cell_type": "code",
   "execution_count": 48,
   "metadata": {},
   "outputs": [
    {
     "name": "stdout",
     "output_type": "stream",
     "text": [
      "Beginning training model with 582678 parameters\n",
      "Files will be saved in: dump/Seq2SeqSame/Our/\n",
      "\n",
      "Epoch #1: Batch 250/250 -- Loss = 2.2028255462646484; Time taken: 0.20014142990112305s\n",
      "Epoch #1: Average loss is 2.240678891181946\n",
      "Epoch #1: Validation Accuracy is 0.0\n",
      "Epoch #1: Train Accuracy is 0.0\n",
      "Time taken for epoch: 77.38060593605042s\n",
      "\n",
      "Epoch #2: Batch 250/250 -- Loss = 2.202115058898926; Time taken: 0.23061871528625488ss\n",
      "Epoch #2: Average loss is 2.2004033794403077\n",
      "Time taken for epoch: 55.0276882648468s\n",
      "\n",
      "Epoch #3: Batch 250/250 -- Loss = 2.1992738246917725; Time taken: 0.282886266708374sss\n",
      "Epoch #3: Average loss is 2.2004031734466554\n",
      "Time taken for epoch: 62.39732313156128s\n",
      "\n",
      "Epoch #4: Batch 250/250 -- Loss = 2.2014036178588867; Time taken: 0.2220139503479004ss\n",
      "Epoch #4: Average loss is 2.2004026832580568\n",
      "Time taken for epoch: 64.567312002182s\n",
      "\n",
      "Epoch #5: Batch 250/250 -- Loss = 2.1996278762817383; Time taken: 0.21903228759765625s\n",
      "Epoch #5: Average loss is 2.200402070045471\n",
      "Epoch #5: Validation Accuracy is 0.0\n",
      "Epoch #5: Train Accuracy is 0.0\n",
      "Time taken for epoch: 78.20743870735168s\n",
      "\n",
      "Epoch #6: Batch 250/250 -- Loss = 2.199272394180298; Time taken: 0.21446847915649414ss\n",
      "Epoch #6: Average loss is 2.200401768684387\n",
      "Time taken for epoch: 55.83215832710266s\n",
      "\n",
      "Training completed in 394.1381802558899s\n"
     ]
    },
    {
     "data": {
      "image/png": "[encoded data removed]",
      "text/plain": [
       "<Figure size 432x288 with 1 Axes>"
      ]
     },
     "metadata": {
      "needs_background": "light"
     },
     "output_type": "display_data"
    }
   ],
   "source": [
    "our, our_stats = task_our.train(epochs=6, train_loader=train_loader, valid_loader=valid_loader, \n",
    "                                            out_dir='dump/Seq2SeqSame/Our/', freq=5)"
   ]
  },
  {
   "cell_type": "code",
   "execution_count": 9,
   "metadata": {},
   "outputs": [
    {
     "ename": "NameError",
     "evalue": "name 'task_our' is not defined",
     "output_type": "error",
     "traceback": [
      "\u001b[0;31m---------------------------------------------------------------------------\u001b[0m",
      "\u001b[0;31mNameError\u001b[0m                                 Traceback (most recent call last)",
      "\u001b[0;32m<ipython-input-9-32dd2a4a2fca>\u001b[0m in \u001b[0;36m<module>\u001b[0;34m\u001b[0m\n\u001b[0;32m----> 1\u001b[0;31m \u001b[0mour_accuracy\u001b[0m\u001b[0;34m,\u001b[0m \u001b[0m_\u001b[0m \u001b[0;34m=\u001b[0m \u001b[0mtask_our\u001b[0m\u001b[0;34m.\u001b[0m\u001b[0mevaluate\u001b[0m\u001b[0;34m(\u001b[0m\u001b[0mtest_loader\u001b[0m\u001b[0;34m,\u001b[0m \u001b[0mverbose\u001b[0m\u001b[0;34m=\u001b[0m\u001b[0;32mTrue\u001b[0m\u001b[0;34m)\u001b[0m\u001b[0;34m\u001b[0m\u001b[0;34m\u001b[0m\u001b[0m\n\u001b[0m",
      "\u001b[0;31mNameError\u001b[0m: name 'task_our' is not defined"
     ]
    }
   ],
   "source": [
    "our_accuracy, _ = task_our.evaluate(test_loader, verbose=True)"
   ]
  },
  {
   "cell_type": "markdown",
   "metadata": {},
   "source": [
    "### PyTorch implementation"
   ]
  },
  {
   "cell_type": "code",
   "execution_count": 17,
   "metadata": {},
   "outputs": [
    {
     "name": "stdout",
     "output_type": "stream",
     "text": [
      "PyTorch implementation\n",
      "======================\n",
      "# of parameters: 292374\n",
      "lstm.weight_ih_l0        : torch.Size([1024, 22])\n",
      "lstm.weight_hh_l0        : torch.Size([1024, 256])\n",
      "lstm.bias_ih_l0          : torch.Size([1024])\n",
      "lstm.bias_hh_l0          : torch.Size([1024])\n",
      "fc.weight                : torch.Size([22, 256])\n",
      "fc.bias                  : torch.Size([22])\n"
     ]
    }
   ],
   "source": [
    "from seq_seq_same import PyTorchBaseline\n",
    "\n",
    "bidirectional = False\n",
    "\n",
    "pytorch = PyTorchBaseline(input_dim=input_dim, hidden_dim=hidden_dim, output_dim=output_dim, \n",
    "                        layers=layers, bidirectional=bidirectional).to(device)\n",
    "\n",
    "print(\"PyTorch implementation\\n{}\".format(\"=\" * len(\"PyTorch implementation\")))\n",
    "print(\"# of parameters: {}\".format(pytorch.count_parameters()))\n",
    "for name, param in pytorch.named_parameters():\n",
    "    print(\"{:<25}: {}\".format(name, param.shape))"
   ]
  },
  {
   "cell_type": "code",
   "execution_count": 18,
   "metadata": {},
   "outputs": [],
   "source": [
    "from seq_seq_same import Seq2SeqSame\n",
    "\n",
    "loss_fn = nn.CrossEntropyLoss()\n",
    "optimizer_pytorch = torch.optim.Adam(pytorch.parameters(), lr=learning_rate)\n",
    "\n",
    "task_pytorch = Seq2SeqSame(pytorch, optimizer_pytorch, loss_fn, device)"
   ]
  },
  {
   "cell_type": "code",
   "execution_count": 19,
   "metadata": {},
   "outputs": [
    {
     "name": "stdout",
     "output_type": "stream",
     "text": [
      "Beginning training model with 292374 parameters\n",
      "Files will be saved in: dump/Seq2SeqSame/PyTorch/\n",
      "\n",
      "Epoch #1: Batch 1000/1000 -- Loss = 2.2046613693237305; Time taken: 0.016531705856323242s\n",
      "Epoch #1: Average loss is 2.215294578552246\n",
      "Epoch #1: Validation Accuracy is 0.0\n",
      "Epoch #1: Train Accuracy is 0.0\n",
      "Time taken for epoch: 26.177875518798828s\n",
      "\n",
      "Epoch #2: Batch 1000/1000 -- Loss = 2.2046096324920654; Time taken: 0.01647639274597168s\n",
      "Epoch #2: Average loss is 2.2002961082458494\n",
      "Time taken for epoch: 17.44357204437256s\n",
      "\n",
      "Epoch #3: Batch 1000/1000 -- Loss = 2.1960792541503906; Time taken: 0.016546249389648438s\n",
      "Epoch #3: Average loss is 2.200275460720062\n",
      "Time taken for epoch: 17.410171031951904s\n",
      "\n",
      "Epoch #4: Batch 1000/1000 -- Loss = 2.2117016315460205; Time taken: 0.016537904739379883s\n",
      "Epoch #4: Average loss is 2.2002709653377535\n",
      "Time taken for epoch: 17.494926929473877s\n",
      "\n",
      "Epoch #5: Batch 1000/1000 -- Loss = 2.2031779289245605; Time taken: 0.01650214195251465s\n",
      "Epoch #5: Average loss is 2.2002692890167235\n",
      "Epoch #5: Validation Accuracy is 0.0\n",
      "Epoch #5: Train Accuracy is 0.0\n",
      "Time taken for epoch: 26.235544204711914s\n",
      "\n",
      "Epoch #6: Batch 1000/1000 -- Loss = 2.2045977115631104; Time taken: 0.016610145568847656s\n",
      "Epoch #6: Average loss is 2.200268518447876\n",
      "Time taken for epoch: 17.545110940933228s\n",
      "\n",
      "Epoch #7: Batch 1000/1000 -- Loss = 2.201756477355957; Time taken: 0.016597986221313477s\n",
      "Epoch #7: Average loss is 2.2002681407928466\n",
      "Time taken for epoch: 17.574406623840332s\n",
      "\n",
      "Epoch #8: Batch 1000/1000 -- Loss = 2.200336217880249; Time taken: 0.016756057739257812s\n",
      "Epoch #8: Average loss is 2.200267931461334\n",
      "Time taken for epoch: 17.64092493057251s\n",
      "\n",
      "Epoch #9: Batch 1000/1000 -- Loss = 2.204597234725952; Time taken: 0.016600370407104492s\n",
      "Epoch #9: Average loss is 2.2002677643299102\n",
      "Time taken for epoch: 17.562803268432617s\n",
      "\n",
      "Epoch #10: Batch 1000/1000 -- Loss = 2.1946542263031006; Time taken: 0.016622066497802734s\n",
      "Epoch #10: Average loss is 2.2002677528858183\n",
      "Epoch #10: Validation Accuracy is 0.0\n",
      "Epoch #10: Train Accuracy is 0.0\n",
      "Time taken for epoch: 28.439603805541992s\n",
      "\n",
      "Training completed in 204.16657948493958s\n"
     ]
    },
    {
     "data": {
      "image/png": "[encoded data removed]",
      "text/plain": [
       "<Figure size 432x288 with 1 Axes>"
      ]
     },
     "metadata": {
      "needs_background": "light"
     },
     "output_type": "display_data"
    }
   ],
   "source": [
    "pytorch, pytorch_stats = task_pytorch.train(epochs=10, train_loader=train_loader, valid_loader=valid_loader, \n",
    "                                            out_dir='dump/Seq2SeqSame/PyTorch/', freq=5)"
   ]
  },
  {
   "cell_type": "code",
   "execution_count": 10,
   "metadata": {},
   "outputs": [
    {
     "name": "stdout",
     "output_type": "stream",
     "text": [
      "Confusion Matrix: \n",
      " [[  0   0   0   0   0   0   0]\n",
      " [461   0   0   0   0   0   0]\n",
      " [441   0   0   0   0   0   0]\n",
      " [607   0   0   0   0   0   0]\n",
      " [527   0   0   0   0   0   0]\n",
      " [497   0   0   0   0   0   0]\n",
      " [467   0   0   0   0   0   0]]\n",
      "Classification Report: \n",
      "               precision    recall  f1-score   support\n",
      "\n",
      "           0       0.00      0.00      0.00         0\n",
      "           7       0.00      0.00      0.00       461\n",
      "          10       0.00      0.00      0.00       441\n",
      "          16       0.00      0.00      0.00       607\n",
      "          17       0.00      0.00      0.00       527\n",
      "          20       0.00      0.00      0.00       497\n",
      "          21       0.00      0.00      0.00       467\n",
      "\n",
      "   micro avg       0.00      0.00      0.00      3000\n",
      "   macro avg       0.00      0.00      0.00      3000\n",
      "weighted avg       0.00      0.00      0.00      3000\n",
      "\n"
     ]
    },
    {
     "name": "stderr",
     "output_type": "stream",
     "text": [
      "/usr/local/lib/python3.6/dist-packages/sklearn/metrics/classification.py:1143: UndefinedMetricWarning: Precision and F-score are ill-defined and being set to 0.0 in labels with no predicted samples.\n",
      "  'precision', 'predicted', average, warn_for)\n",
      "/usr/local/lib/python3.6/dist-packages/sklearn/metrics/classification.py:1145: UndefinedMetricWarning: Recall and F-score are ill-defined and being set to 0.0 in labels with no true samples.\n",
      "  'recall', 'true', average, warn_for)\n"
     ]
    }
   ],
   "source": [
    "pytorch_accuracy, _ = task_pytorch.evaluate(test_loader, verbose=True)"
   ]
  },
  {
   "cell_type": "code",
   "execution_count": 72,
   "metadata": {},
   "outputs": [],
   "source": []
  },
  {
   "cell_type": "markdown",
   "metadata": {},
   "source": [
    "***"
   ]
  },
  {
   "cell_type": "markdown",
   "metadata": {},
   "source": [
    "# TRANSFORMER"
   ]
  },
  {
   "cell_type": "code",
   "execution_count": null,
   "metadata": {},
   "outputs": [],
   "source": []
  }
 ],
 "metadata": {
  "kernelspec": {
   "display_name": "Python 3",
   "language": "python",
   "name": "python3"
  },
  "language_info": {
   "codemirror_mode": {
    "name": "ipython",
    "version": 3
   },
   "file_extension": ".py",
   "mimetype": "text/x-python",
   "name": "python",
   "nbconvert_exporter": "python",
   "pygments_lexer": "ipython3",
   "version": "3.6.8"
  }
 },
 "nbformat": 4,
 "nbformat_minor": 2
}
